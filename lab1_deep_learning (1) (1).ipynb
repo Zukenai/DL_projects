{
  "nbformat": 4,
  "nbformat_minor": 0,
  "metadata": {
    "colab": {
      "provenance": []
    },
    "kernelspec": {
      "name": "python3",
      "display_name": "Python 3"
    },
    "language_info": {
      "name": "python"
    }
  },
  "cells": [
    {
      "cell_type": "code",
      "execution_count": 3,
      "metadata": {
        "id": "jAnn-_7yIO6j"
      },
      "outputs": [],
      "source": [
        "! pip install opendatasets --quiet"
      ]
    },
    {
      "cell_type": "code",
      "source": [
        "import opendatasets as od"
      ],
      "metadata": {
        "id": "tn4KoqnHJxV9"
      },
      "execution_count": 4,
      "outputs": []
    },
    {
      "cell_type": "code",
      "source": [
        "od.download(\"https://www.kaggle.com/datasets/miadul/brain-tumor-dataset\")"
      ],
      "metadata": {
        "colab": {
          "base_uri": "https://localhost:8080/"
        },
        "id": "o8hUSQO2LOM5",
        "outputId": "f8a4c5f0-817f-4667-b5ef-53b585049dd7"
      },
      "execution_count": 5,
      "outputs": [
        {
          "output_type": "stream",
          "name": "stdout",
          "text": [
            "Please provide your Kaggle credentials to download this dataset. Learn more: http://bit.ly/kaggle-creds\n",
            "Your Kaggle username: alekseimedvedev\n",
            "Your Kaggle Key: ··········\n",
            "Dataset URL: https://www.kaggle.com/datasets/miadul/brain-tumor-dataset\n"
          ]
        }
      ]
    },
    {
      "cell_type": "markdown",
      "source": [
        "# Преодобработка данных\n"
      ],
      "metadata": {
        "id": "Pr23REiXL0Qi"
      }
    },
    {
      "cell_type": "code",
      "source": [
        "import numpy as np\n",
        "import pandas as pd\n",
        "from matplotlib import pyplot as plt\n",
        "%matplotlib inline"
      ],
      "metadata": {
        "id": "WIztjgGKLQdW"
      },
      "execution_count": 6,
      "outputs": []
    },
    {
      "cell_type": "code",
      "source": [
        "df = pd.read_csv(\"/content/brain-tumor-dataset/brain_tumor_dataset.csv\")\n",
        "df.head()"
      ],
      "metadata": {
        "colab": {
          "base_uri": "https://localhost:8080/",
          "height": 278
        },
        "id": "4oMew_NvRfkQ",
        "outputId": "456d1308-fe9a-473f-9e82-35bf8ecd0d8f"
      },
      "execution_count": 7,
      "outputs": [
        {
          "output_type": "execute_result",
          "data": {
            "text/plain": [
              "   Patient_ID  Age  Gender Tumor_Type  Tumor_Size  Location        Histology  \\\n",
              "0           1   73    Male  Malignant    5.375612  Temporal      Astrocytoma   \n",
              "1           2   26    Male     Benign    4.847098  Parietal     Glioblastoma   \n",
              "2           3   31    Male     Benign    5.588391  Parietal       Meningioma   \n",
              "3           4   29    Male  Malignant    1.436600  Temporal  Medulloblastoma   \n",
              "4           5   54  Female     Benign    2.417506  Parietal     Glioblastoma   \n",
              "\n",
              "  Stage      Symptom_1 Symptom_2 Symptom_3 Radiation_Treatment  \\\n",
              "0   III  Vision Issues  Seizures  Seizures                  No   \n",
              "1    II       Headache  Headache    Nausea                 Yes   \n",
              "2     I  Vision Issues  Headache  Seizures                  No   \n",
              "3    IV  Vision Issues  Seizures  Headache                 Yes   \n",
              "4     I       Headache  Headache  Seizures                  No   \n",
              "\n",
              "  Surgery_Performed Chemotherapy  Survival_Rate  Tumor_Growth_Rate  \\\n",
              "0                No           No      51.312579           0.111876   \n",
              "1               Yes          Yes      46.373273           2.165736   \n",
              "2                No           No      47.072221           1.884228   \n",
              "3                No          Yes      51.853634           1.283342   \n",
              "4                No          Yes      54.708987           2.069477   \n",
              "\n",
              "  Family_History MRI_Result Follow_Up_Required  \n",
              "0             No   Positive                Yes  \n",
              "1            Yes   Positive                Yes  \n",
              "2             No   Negative                 No  \n",
              "3            Yes   Negative                 No  \n",
              "4             No   Positive                Yes  "
            ],
            "text/html": [
              "\n",
              "  <div id=\"df-2d0c5860-0f4a-446f-8e04-ecf1b2edf7e1\" class=\"colab-df-container\">\n",
              "    <div>\n",
              "<style scoped>\n",
              "    .dataframe tbody tr th:only-of-type {\n",
              "        vertical-align: middle;\n",
              "    }\n",
              "\n",
              "    .dataframe tbody tr th {\n",
              "        vertical-align: top;\n",
              "    }\n",
              "\n",
              "    .dataframe thead th {\n",
              "        text-align: right;\n",
              "    }\n",
              "</style>\n",
              "<table border=\"1\" class=\"dataframe\">\n",
              "  <thead>\n",
              "    <tr style=\"text-align: right;\">\n",
              "      <th></th>\n",
              "      <th>Patient_ID</th>\n",
              "      <th>Age</th>\n",
              "      <th>Gender</th>\n",
              "      <th>Tumor_Type</th>\n",
              "      <th>Tumor_Size</th>\n",
              "      <th>Location</th>\n",
              "      <th>Histology</th>\n",
              "      <th>Stage</th>\n",
              "      <th>Symptom_1</th>\n",
              "      <th>Symptom_2</th>\n",
              "      <th>Symptom_3</th>\n",
              "      <th>Radiation_Treatment</th>\n",
              "      <th>Surgery_Performed</th>\n",
              "      <th>Chemotherapy</th>\n",
              "      <th>Survival_Rate</th>\n",
              "      <th>Tumor_Growth_Rate</th>\n",
              "      <th>Family_History</th>\n",
              "      <th>MRI_Result</th>\n",
              "      <th>Follow_Up_Required</th>\n",
              "    </tr>\n",
              "  </thead>\n",
              "  <tbody>\n",
              "    <tr>\n",
              "      <th>0</th>\n",
              "      <td>1</td>\n",
              "      <td>73</td>\n",
              "      <td>Male</td>\n",
              "      <td>Malignant</td>\n",
              "      <td>5.375612</td>\n",
              "      <td>Temporal</td>\n",
              "      <td>Astrocytoma</td>\n",
              "      <td>III</td>\n",
              "      <td>Vision Issues</td>\n",
              "      <td>Seizures</td>\n",
              "      <td>Seizures</td>\n",
              "      <td>No</td>\n",
              "      <td>No</td>\n",
              "      <td>No</td>\n",
              "      <td>51.312579</td>\n",
              "      <td>0.111876</td>\n",
              "      <td>No</td>\n",
              "      <td>Positive</td>\n",
              "      <td>Yes</td>\n",
              "    </tr>\n",
              "    <tr>\n",
              "      <th>1</th>\n",
              "      <td>2</td>\n",
              "      <td>26</td>\n",
              "      <td>Male</td>\n",
              "      <td>Benign</td>\n",
              "      <td>4.847098</td>\n",
              "      <td>Parietal</td>\n",
              "      <td>Glioblastoma</td>\n",
              "      <td>II</td>\n",
              "      <td>Headache</td>\n",
              "      <td>Headache</td>\n",
              "      <td>Nausea</td>\n",
              "      <td>Yes</td>\n",
              "      <td>Yes</td>\n",
              "      <td>Yes</td>\n",
              "      <td>46.373273</td>\n",
              "      <td>2.165736</td>\n",
              "      <td>Yes</td>\n",
              "      <td>Positive</td>\n",
              "      <td>Yes</td>\n",
              "    </tr>\n",
              "    <tr>\n",
              "      <th>2</th>\n",
              "      <td>3</td>\n",
              "      <td>31</td>\n",
              "      <td>Male</td>\n",
              "      <td>Benign</td>\n",
              "      <td>5.588391</td>\n",
              "      <td>Parietal</td>\n",
              "      <td>Meningioma</td>\n",
              "      <td>I</td>\n",
              "      <td>Vision Issues</td>\n",
              "      <td>Headache</td>\n",
              "      <td>Seizures</td>\n",
              "      <td>No</td>\n",
              "      <td>No</td>\n",
              "      <td>No</td>\n",
              "      <td>47.072221</td>\n",
              "      <td>1.884228</td>\n",
              "      <td>No</td>\n",
              "      <td>Negative</td>\n",
              "      <td>No</td>\n",
              "    </tr>\n",
              "    <tr>\n",
              "      <th>3</th>\n",
              "      <td>4</td>\n",
              "      <td>29</td>\n",
              "      <td>Male</td>\n",
              "      <td>Malignant</td>\n",
              "      <td>1.436600</td>\n",
              "      <td>Temporal</td>\n",
              "      <td>Medulloblastoma</td>\n",
              "      <td>IV</td>\n",
              "      <td>Vision Issues</td>\n",
              "      <td>Seizures</td>\n",
              "      <td>Headache</td>\n",
              "      <td>Yes</td>\n",
              "      <td>No</td>\n",
              "      <td>Yes</td>\n",
              "      <td>51.853634</td>\n",
              "      <td>1.283342</td>\n",
              "      <td>Yes</td>\n",
              "      <td>Negative</td>\n",
              "      <td>No</td>\n",
              "    </tr>\n",
              "    <tr>\n",
              "      <th>4</th>\n",
              "      <td>5</td>\n",
              "      <td>54</td>\n",
              "      <td>Female</td>\n",
              "      <td>Benign</td>\n",
              "      <td>2.417506</td>\n",
              "      <td>Parietal</td>\n",
              "      <td>Glioblastoma</td>\n",
              "      <td>I</td>\n",
              "      <td>Headache</td>\n",
              "      <td>Headache</td>\n",
              "      <td>Seizures</td>\n",
              "      <td>No</td>\n",
              "      <td>No</td>\n",
              "      <td>Yes</td>\n",
              "      <td>54.708987</td>\n",
              "      <td>2.069477</td>\n",
              "      <td>No</td>\n",
              "      <td>Positive</td>\n",
              "      <td>Yes</td>\n",
              "    </tr>\n",
              "  </tbody>\n",
              "</table>\n",
              "</div>\n",
              "    <div class=\"colab-df-buttons\">\n",
              "\n",
              "  <div class=\"colab-df-container\">\n",
              "    <button class=\"colab-df-convert\" onclick=\"convertToInteractive('df-2d0c5860-0f4a-446f-8e04-ecf1b2edf7e1')\"\n",
              "            title=\"Convert this dataframe to an interactive table.\"\n",
              "            style=\"display:none;\">\n",
              "\n",
              "  <svg xmlns=\"http://www.w3.org/2000/svg\" height=\"24px\" viewBox=\"0 -960 960 960\">\n",
              "    <path d=\"M120-120v-720h720v720H120Zm60-500h600v-160H180v160Zm220 220h160v-160H400v160Zm0 220h160v-160H400v160ZM180-400h160v-160H180v160Zm440 0h160v-160H620v160ZM180-180h160v-160H180v160Zm440 0h160v-160H620v160Z\"/>\n",
              "  </svg>\n",
              "    </button>\n",
              "\n",
              "  <style>\n",
              "    .colab-df-container {\n",
              "      display:flex;\n",
              "      gap: 12px;\n",
              "    }\n",
              "\n",
              "    .colab-df-convert {\n",
              "      background-color: #E8F0FE;\n",
              "      border: none;\n",
              "      border-radius: 50%;\n",
              "      cursor: pointer;\n",
              "      display: none;\n",
              "      fill: #1967D2;\n",
              "      height: 32px;\n",
              "      padding: 0 0 0 0;\n",
              "      width: 32px;\n",
              "    }\n",
              "\n",
              "    .colab-df-convert:hover {\n",
              "      background-color: #E2EBFA;\n",
              "      box-shadow: 0px 1px 2px rgba(60, 64, 67, 0.3), 0px 1px 3px 1px rgba(60, 64, 67, 0.15);\n",
              "      fill: #174EA6;\n",
              "    }\n",
              "\n",
              "    .colab-df-buttons div {\n",
              "      margin-bottom: 4px;\n",
              "    }\n",
              "\n",
              "    [theme=dark] .colab-df-convert {\n",
              "      background-color: #3B4455;\n",
              "      fill: #D2E3FC;\n",
              "    }\n",
              "\n",
              "    [theme=dark] .colab-df-convert:hover {\n",
              "      background-color: #434B5C;\n",
              "      box-shadow: 0px 1px 3px 1px rgba(0, 0, 0, 0.15);\n",
              "      filter: drop-shadow(0px 1px 2px rgba(0, 0, 0, 0.3));\n",
              "      fill: #FFFFFF;\n",
              "    }\n",
              "  </style>\n",
              "\n",
              "    <script>\n",
              "      const buttonEl =\n",
              "        document.querySelector('#df-2d0c5860-0f4a-446f-8e04-ecf1b2edf7e1 button.colab-df-convert');\n",
              "      buttonEl.style.display =\n",
              "        google.colab.kernel.accessAllowed ? 'block' : 'none';\n",
              "\n",
              "      async function convertToInteractive(key) {\n",
              "        const element = document.querySelector('#df-2d0c5860-0f4a-446f-8e04-ecf1b2edf7e1');\n",
              "        const dataTable =\n",
              "          await google.colab.kernel.invokeFunction('convertToInteractive',\n",
              "                                                    [key], {});\n",
              "        if (!dataTable) return;\n",
              "\n",
              "        const docLinkHtml = 'Like what you see? Visit the ' +\n",
              "          '<a target=\"_blank\" href=https://colab.research.google.com/notebooks/data_table.ipynb>data table notebook</a>'\n",
              "          + ' to learn more about interactive tables.';\n",
              "        element.innerHTML = '';\n",
              "        dataTable['output_type'] = 'display_data';\n",
              "        await google.colab.output.renderOutput(dataTable, element);\n",
              "        const docLink = document.createElement('div');\n",
              "        docLink.innerHTML = docLinkHtml;\n",
              "        element.appendChild(docLink);\n",
              "      }\n",
              "    </script>\n",
              "  </div>\n",
              "\n",
              "\n",
              "<div id=\"df-1bd828a2-841e-4374-b8ee-365ba0887ebe\">\n",
              "  <button class=\"colab-df-quickchart\" onclick=\"quickchart('df-1bd828a2-841e-4374-b8ee-365ba0887ebe')\"\n",
              "            title=\"Suggest charts\"\n",
              "            style=\"display:none;\">\n",
              "\n",
              "<svg xmlns=\"http://www.w3.org/2000/svg\" height=\"24px\"viewBox=\"0 0 24 24\"\n",
              "     width=\"24px\">\n",
              "    <g>\n",
              "        <path d=\"M19 3H5c-1.1 0-2 .9-2 2v14c0 1.1.9 2 2 2h14c1.1 0 2-.9 2-2V5c0-1.1-.9-2-2-2zM9 17H7v-7h2v7zm4 0h-2V7h2v10zm4 0h-2v-4h2v4z\"/>\n",
              "    </g>\n",
              "</svg>\n",
              "  </button>\n",
              "\n",
              "<style>\n",
              "  .colab-df-quickchart {\n",
              "      --bg-color: #E8F0FE;\n",
              "      --fill-color: #1967D2;\n",
              "      --hover-bg-color: #E2EBFA;\n",
              "      --hover-fill-color: #174EA6;\n",
              "      --disabled-fill-color: #AAA;\n",
              "      --disabled-bg-color: #DDD;\n",
              "  }\n",
              "\n",
              "  [theme=dark] .colab-df-quickchart {\n",
              "      --bg-color: #3B4455;\n",
              "      --fill-color: #D2E3FC;\n",
              "      --hover-bg-color: #434B5C;\n",
              "      --hover-fill-color: #FFFFFF;\n",
              "      --disabled-bg-color: #3B4455;\n",
              "      --disabled-fill-color: #666;\n",
              "  }\n",
              "\n",
              "  .colab-df-quickchart {\n",
              "    background-color: var(--bg-color);\n",
              "    border: none;\n",
              "    border-radius: 50%;\n",
              "    cursor: pointer;\n",
              "    display: none;\n",
              "    fill: var(--fill-color);\n",
              "    height: 32px;\n",
              "    padding: 0;\n",
              "    width: 32px;\n",
              "  }\n",
              "\n",
              "  .colab-df-quickchart:hover {\n",
              "    background-color: var(--hover-bg-color);\n",
              "    box-shadow: 0 1px 2px rgba(60, 64, 67, 0.3), 0 1px 3px 1px rgba(60, 64, 67, 0.15);\n",
              "    fill: var(--button-hover-fill-color);\n",
              "  }\n",
              "\n",
              "  .colab-df-quickchart-complete:disabled,\n",
              "  .colab-df-quickchart-complete:disabled:hover {\n",
              "    background-color: var(--disabled-bg-color);\n",
              "    fill: var(--disabled-fill-color);\n",
              "    box-shadow: none;\n",
              "  }\n",
              "\n",
              "  .colab-df-spinner {\n",
              "    border: 2px solid var(--fill-color);\n",
              "    border-color: transparent;\n",
              "    border-bottom-color: var(--fill-color);\n",
              "    animation:\n",
              "      spin 1s steps(1) infinite;\n",
              "  }\n",
              "\n",
              "  @keyframes spin {\n",
              "    0% {\n",
              "      border-color: transparent;\n",
              "      border-bottom-color: var(--fill-color);\n",
              "      border-left-color: var(--fill-color);\n",
              "    }\n",
              "    20% {\n",
              "      border-color: transparent;\n",
              "      border-left-color: var(--fill-color);\n",
              "      border-top-color: var(--fill-color);\n",
              "    }\n",
              "    30% {\n",
              "      border-color: transparent;\n",
              "      border-left-color: var(--fill-color);\n",
              "      border-top-color: var(--fill-color);\n",
              "      border-right-color: var(--fill-color);\n",
              "    }\n",
              "    40% {\n",
              "      border-color: transparent;\n",
              "      border-right-color: var(--fill-color);\n",
              "      border-top-color: var(--fill-color);\n",
              "    }\n",
              "    60% {\n",
              "      border-color: transparent;\n",
              "      border-right-color: var(--fill-color);\n",
              "    }\n",
              "    80% {\n",
              "      border-color: transparent;\n",
              "      border-right-color: var(--fill-color);\n",
              "      border-bottom-color: var(--fill-color);\n",
              "    }\n",
              "    90% {\n",
              "      border-color: transparent;\n",
              "      border-bottom-color: var(--fill-color);\n",
              "    }\n",
              "  }\n",
              "</style>\n",
              "\n",
              "  <script>\n",
              "    async function quickchart(key) {\n",
              "      const quickchartButtonEl =\n",
              "        document.querySelector('#' + key + ' button');\n",
              "      quickchartButtonEl.disabled = true;  // To prevent multiple clicks.\n",
              "      quickchartButtonEl.classList.add('colab-df-spinner');\n",
              "      try {\n",
              "        const charts = await google.colab.kernel.invokeFunction(\n",
              "            'suggestCharts', [key], {});\n",
              "      } catch (error) {\n",
              "        console.error('Error during call to suggestCharts:', error);\n",
              "      }\n",
              "      quickchartButtonEl.classList.remove('colab-df-spinner');\n",
              "      quickchartButtonEl.classList.add('colab-df-quickchart-complete');\n",
              "    }\n",
              "    (() => {\n",
              "      let quickchartButtonEl =\n",
              "        document.querySelector('#df-1bd828a2-841e-4374-b8ee-365ba0887ebe button');\n",
              "      quickchartButtonEl.style.display =\n",
              "        google.colab.kernel.accessAllowed ? 'block' : 'none';\n",
              "    })();\n",
              "  </script>\n",
              "</div>\n",
              "    </div>\n",
              "  </div>\n"
            ],
            "application/vnd.google.colaboratory.intrinsic+json": {
              "type": "dataframe",
              "variable_name": "df",
              "summary": "{\n  \"name\": \"df\",\n  \"rows\": 20000,\n  \"fields\": [\n    {\n      \"column\": \"Patient_ID\",\n      \"properties\": {\n        \"dtype\": \"number\",\n        \"std\": 5773,\n        \"min\": 1,\n        \"max\": 20000,\n        \"num_unique_values\": 20000,\n        \"samples\": [\n          10651,\n          2042,\n          8669\n        ],\n        \"semantic_type\": \"\",\n        \"description\": \"\"\n      }\n    },\n    {\n      \"column\": \"Age\",\n      \"properties\": {\n        \"dtype\": \"number\",\n        \"std\": 17,\n        \"min\": 20,\n        \"max\": 79,\n        \"num_unique_values\": 60,\n        \"samples\": [\n          73,\n          27,\n          32\n        ],\n        \"semantic_type\": \"\",\n        \"description\": \"\"\n      }\n    },\n    {\n      \"column\": \"Gender\",\n      \"properties\": {\n        \"dtype\": \"category\",\n        \"num_unique_values\": 2,\n        \"samples\": [\n          \"Female\",\n          \"Male\"\n        ],\n        \"semantic_type\": \"\",\n        \"description\": \"\"\n      }\n    },\n    {\n      \"column\": \"Tumor_Type\",\n      \"properties\": {\n        \"dtype\": \"category\",\n        \"num_unique_values\": 2,\n        \"samples\": [\n          \"Benign\",\n          \"Malignant\"\n        ],\n        \"semantic_type\": \"\",\n        \"description\": \"\"\n      }\n    },\n    {\n      \"column\": \"Tumor_Size\",\n      \"properties\": {\n        \"dtype\": \"number\",\n        \"std\": 2.7543593622626843,\n        \"min\": 0.5004103685034338,\n        \"max\": 9.999420149756745,\n        \"num_unique_values\": 20000,\n        \"samples\": [\n          4.1853551883771765,\n          6.391747294811097\n        ],\n        \"semantic_type\": \"\",\n        \"description\": \"\"\n      }\n    },\n    {\n      \"column\": \"Location\",\n      \"properties\": {\n        \"dtype\": \"category\",\n        \"num_unique_values\": 4,\n        \"samples\": [\n          \"Parietal\",\n          \"Occipital\"\n        ],\n        \"semantic_type\": \"\",\n        \"description\": \"\"\n      }\n    },\n    {\n      \"column\": \"Histology\",\n      \"properties\": {\n        \"dtype\": \"category\",\n        \"num_unique_values\": 4,\n        \"samples\": [\n          \"Glioblastoma\",\n          \"Medulloblastoma\"\n        ],\n        \"semantic_type\": \"\",\n        \"description\": \"\"\n      }\n    },\n    {\n      \"column\": \"Stage\",\n      \"properties\": {\n        \"dtype\": \"category\",\n        \"num_unique_values\": 4,\n        \"samples\": [\n          \"II\",\n          \"IV\"\n        ],\n        \"semantic_type\": \"\",\n        \"description\": \"\"\n      }\n    },\n    {\n      \"column\": \"Symptom_1\",\n      \"properties\": {\n        \"dtype\": \"category\",\n        \"num_unique_values\": 4,\n        \"samples\": [\n          \"Headache\",\n          \"Nausea\"\n        ],\n        \"semantic_type\": \"\",\n        \"description\": \"\"\n      }\n    },\n    {\n      \"column\": \"Symptom_2\",\n      \"properties\": {\n        \"dtype\": \"category\",\n        \"num_unique_values\": 4,\n        \"samples\": [\n          \"Headache\",\n          \"Nausea\"\n        ],\n        \"semantic_type\": \"\",\n        \"description\": \"\"\n      }\n    },\n    {\n      \"column\": \"Symptom_3\",\n      \"properties\": {\n        \"dtype\": \"category\",\n        \"num_unique_values\": 4,\n        \"samples\": [\n          \"Nausea\",\n          \"Vision Issues\"\n        ],\n        \"semantic_type\": \"\",\n        \"description\": \"\"\n      }\n    },\n    {\n      \"column\": \"Radiation_Treatment\",\n      \"properties\": {\n        \"dtype\": \"category\",\n        \"num_unique_values\": 2,\n        \"samples\": [\n          \"Yes\",\n          \"No\"\n        ],\n        \"semantic_type\": \"\",\n        \"description\": \"\"\n      }\n    },\n    {\n      \"column\": \"Surgery_Performed\",\n      \"properties\": {\n        \"dtype\": \"category\",\n        \"num_unique_values\": 2,\n        \"samples\": [\n          \"Yes\",\n          \"No\"\n        ],\n        \"semantic_type\": \"\",\n        \"description\": \"\"\n      }\n    },\n    {\n      \"column\": \"Chemotherapy\",\n      \"properties\": {\n        \"dtype\": \"category\",\n        \"num_unique_values\": 2,\n        \"samples\": [\n          \"Yes\",\n          \"No\"\n        ],\n        \"semantic_type\": \"\",\n        \"description\": \"\"\n      }\n    },\n    {\n      \"column\": \"Survival_Rate\",\n      \"properties\": {\n        \"dtype\": \"number\",\n        \"std\": 17.270834276760908,\n        \"min\": 40.00238600421792,\n        \"max\": 99.99812548486167,\n        \"num_unique_values\": 20000,\n        \"samples\": [\n          94.7397013312248,\n          49.75146052684098\n        ],\n        \"semantic_type\": \"\",\n        \"description\": \"\"\n      }\n    },\n    {\n      \"column\": \"Tumor_Growth_Rate\",\n      \"properties\": {\n        \"dtype\": \"number\",\n        \"std\": 0.8359950728886073,\n        \"min\": 0.1000165158626012,\n        \"max\": 2.9998354178986144,\n        \"num_unique_values\": 20000,\n        \"samples\": [\n          0.1284921071830608,\n          1.7242190671719162\n        ],\n        \"semantic_type\": \"\",\n        \"description\": \"\"\n      }\n    },\n    {\n      \"column\": \"Family_History\",\n      \"properties\": {\n        \"dtype\": \"category\",\n        \"num_unique_values\": 2,\n        \"samples\": [\n          \"Yes\",\n          \"No\"\n        ],\n        \"semantic_type\": \"\",\n        \"description\": \"\"\n      }\n    },\n    {\n      \"column\": \"MRI_Result\",\n      \"properties\": {\n        \"dtype\": \"category\",\n        \"num_unique_values\": 2,\n        \"samples\": [\n          \"Negative\",\n          \"Positive\"\n        ],\n        \"semantic_type\": \"\",\n        \"description\": \"\"\n      }\n    },\n    {\n      \"column\": \"Follow_Up_Required\",\n      \"properties\": {\n        \"dtype\": \"category\",\n        \"num_unique_values\": 2,\n        \"samples\": [\n          \"No\",\n          \"Yes\"\n        ],\n        \"semantic_type\": \"\",\n        \"description\": \"\"\n      }\n    }\n  ]\n}"
            }
          },
          "metadata": {},
          "execution_count": 7
        }
      ]
    },
    {
      "cell_type": "code",
      "source": [
        "df.columns"
      ],
      "metadata": {
        "colab": {
          "base_uri": "https://localhost:8080/"
        },
        "id": "W0MZjGdpRpSB",
        "outputId": "dba5bee8-170e-4bcc-807d-2587cdf470f3"
      },
      "execution_count": 8,
      "outputs": [
        {
          "output_type": "execute_result",
          "data": {
            "text/plain": [
              "Index(['Patient_ID', 'Age', 'Gender', 'Tumor_Type', 'Tumor_Size', 'Location',\n",
              "       'Histology', 'Stage', 'Symptom_1', 'Symptom_2', 'Symptom_3',\n",
              "       'Radiation_Treatment', 'Surgery_Performed', 'Chemotherapy',\n",
              "       'Survival_Rate', 'Tumor_Growth_Rate', 'Family_History', 'MRI_Result',\n",
              "       'Follow_Up_Required'],\n",
              "      dtype='object')"
            ]
          },
          "metadata": {},
          "execution_count": 8
        }
      ]
    },
    {
      "cell_type": "code",
      "source": [
        "target = df['Follow_Up_Required']\n",
        "df=df.drop(['Follow_Up_Required'],axis=1)\n",
        "df=df.drop(['Patient_ID'],axis=1)"
      ],
      "metadata": {
        "id": "BoSZorcMSwEN"
      },
      "execution_count": 9,
      "outputs": []
    },
    {
      "cell_type": "code",
      "source": [
        "target.value_counts()"
      ],
      "metadata": {
        "colab": {
          "base_uri": "https://localhost:8080/",
          "height": 178
        },
        "id": "cBLPP5PTT9pv",
        "outputId": "dfa00c90-5392-479c-b529-eaa1f5d854a1"
      },
      "execution_count": 10,
      "outputs": [
        {
          "output_type": "execute_result",
          "data": {
            "text/plain": [
              "Follow_Up_Required\n",
              "Yes    10101\n",
              "No      9899\n",
              "Name: count, dtype: int64"
            ],
            "text/html": [
              "<div>\n",
              "<style scoped>\n",
              "    .dataframe tbody tr th:only-of-type {\n",
              "        vertical-align: middle;\n",
              "    }\n",
              "\n",
              "    .dataframe tbody tr th {\n",
              "        vertical-align: top;\n",
              "    }\n",
              "\n",
              "    .dataframe thead th {\n",
              "        text-align: right;\n",
              "    }\n",
              "</style>\n",
              "<table border=\"1\" class=\"dataframe\">\n",
              "  <thead>\n",
              "    <tr style=\"text-align: right;\">\n",
              "      <th></th>\n",
              "      <th>count</th>\n",
              "    </tr>\n",
              "    <tr>\n",
              "      <th>Follow_Up_Required</th>\n",
              "      <th></th>\n",
              "    </tr>\n",
              "  </thead>\n",
              "  <tbody>\n",
              "    <tr>\n",
              "      <th>Yes</th>\n",
              "      <td>10101</td>\n",
              "    </tr>\n",
              "    <tr>\n",
              "      <th>No</th>\n",
              "      <td>9899</td>\n",
              "    </tr>\n",
              "  </tbody>\n",
              "</table>\n",
              "</div><br><label><b>dtype:</b> int64</label>"
            ]
          },
          "metadata": {},
          "execution_count": 10
        }
      ]
    },
    {
      "cell_type": "code",
      "source": [
        "classes_names=['No', 'Yes']\n",
        "codes = {classes_names[i] : i for i in range(len(classes_names))}\n",
        "target = target.map(codes)\n",
        "target.value_counts()"
      ],
      "metadata": {
        "id": "yp7sPgJAURAi",
        "colab": {
          "base_uri": "https://localhost:8080/",
          "height": 178
        },
        "outputId": "dbed2855-a6aa-4738-80c3-39b0d26ff03b"
      },
      "execution_count": 11,
      "outputs": [
        {
          "output_type": "execute_result",
          "data": {
            "text/plain": [
              "Follow_Up_Required\n",
              "1    10101\n",
              "0     9899\n",
              "Name: count, dtype: int64"
            ],
            "text/html": [
              "<div>\n",
              "<style scoped>\n",
              "    .dataframe tbody tr th:only-of-type {\n",
              "        vertical-align: middle;\n",
              "    }\n",
              "\n",
              "    .dataframe tbody tr th {\n",
              "        vertical-align: top;\n",
              "    }\n",
              "\n",
              "    .dataframe thead th {\n",
              "        text-align: right;\n",
              "    }\n",
              "</style>\n",
              "<table border=\"1\" class=\"dataframe\">\n",
              "  <thead>\n",
              "    <tr style=\"text-align: right;\">\n",
              "      <th></th>\n",
              "      <th>count</th>\n",
              "    </tr>\n",
              "    <tr>\n",
              "      <th>Follow_Up_Required</th>\n",
              "      <th></th>\n",
              "    </tr>\n",
              "  </thead>\n",
              "  <tbody>\n",
              "    <tr>\n",
              "      <th>1</th>\n",
              "      <td>10101</td>\n",
              "    </tr>\n",
              "    <tr>\n",
              "      <th>0</th>\n",
              "      <td>9899</td>\n",
              "    </tr>\n",
              "  </tbody>\n",
              "</table>\n",
              "</div><br><label><b>dtype:</b> int64</label>"
            ]
          },
          "metadata": {},
          "execution_count": 11
        }
      ]
    },
    {
      "cell_type": "code",
      "source": [
        "df.isna().sum()"
      ],
      "metadata": {
        "colab": {
          "base_uri": "https://localhost:8080/",
          "height": 617
        },
        "id": "2PSTpNGuo8u-",
        "outputId": "5e77d682-e419-4290-b6f6-c70b92bedcce"
      },
      "execution_count": 12,
      "outputs": [
        {
          "output_type": "execute_result",
          "data": {
            "text/plain": [
              "Age                    0\n",
              "Gender                 0\n",
              "Tumor_Type             0\n",
              "Tumor_Size             0\n",
              "Location               0\n",
              "Histology              0\n",
              "Stage                  0\n",
              "Symptom_1              0\n",
              "Symptom_2              0\n",
              "Symptom_3              0\n",
              "Radiation_Treatment    0\n",
              "Surgery_Performed      0\n",
              "Chemotherapy           0\n",
              "Survival_Rate          0\n",
              "Tumor_Growth_Rate      0\n",
              "Family_History         0\n",
              "MRI_Result             0\n",
              "dtype: int64"
            ],
            "text/html": [
              "<div>\n",
              "<style scoped>\n",
              "    .dataframe tbody tr th:only-of-type {\n",
              "        vertical-align: middle;\n",
              "    }\n",
              "\n",
              "    .dataframe tbody tr th {\n",
              "        vertical-align: top;\n",
              "    }\n",
              "\n",
              "    .dataframe thead th {\n",
              "        text-align: right;\n",
              "    }\n",
              "</style>\n",
              "<table border=\"1\" class=\"dataframe\">\n",
              "  <thead>\n",
              "    <tr style=\"text-align: right;\">\n",
              "      <th></th>\n",
              "      <th>0</th>\n",
              "    </tr>\n",
              "  </thead>\n",
              "  <tbody>\n",
              "    <tr>\n",
              "      <th>Age</th>\n",
              "      <td>0</td>\n",
              "    </tr>\n",
              "    <tr>\n",
              "      <th>Gender</th>\n",
              "      <td>0</td>\n",
              "    </tr>\n",
              "    <tr>\n",
              "      <th>Tumor_Type</th>\n",
              "      <td>0</td>\n",
              "    </tr>\n",
              "    <tr>\n",
              "      <th>Tumor_Size</th>\n",
              "      <td>0</td>\n",
              "    </tr>\n",
              "    <tr>\n",
              "      <th>Location</th>\n",
              "      <td>0</td>\n",
              "    </tr>\n",
              "    <tr>\n",
              "      <th>Histology</th>\n",
              "      <td>0</td>\n",
              "    </tr>\n",
              "    <tr>\n",
              "      <th>Stage</th>\n",
              "      <td>0</td>\n",
              "    </tr>\n",
              "    <tr>\n",
              "      <th>Symptom_1</th>\n",
              "      <td>0</td>\n",
              "    </tr>\n",
              "    <tr>\n",
              "      <th>Symptom_2</th>\n",
              "      <td>0</td>\n",
              "    </tr>\n",
              "    <tr>\n",
              "      <th>Symptom_3</th>\n",
              "      <td>0</td>\n",
              "    </tr>\n",
              "    <tr>\n",
              "      <th>Radiation_Treatment</th>\n",
              "      <td>0</td>\n",
              "    </tr>\n",
              "    <tr>\n",
              "      <th>Surgery_Performed</th>\n",
              "      <td>0</td>\n",
              "    </tr>\n",
              "    <tr>\n",
              "      <th>Chemotherapy</th>\n",
              "      <td>0</td>\n",
              "    </tr>\n",
              "    <tr>\n",
              "      <th>Survival_Rate</th>\n",
              "      <td>0</td>\n",
              "    </tr>\n",
              "    <tr>\n",
              "      <th>Tumor_Growth_Rate</th>\n",
              "      <td>0</td>\n",
              "    </tr>\n",
              "    <tr>\n",
              "      <th>Family_History</th>\n",
              "      <td>0</td>\n",
              "    </tr>\n",
              "    <tr>\n",
              "      <th>MRI_Result</th>\n",
              "      <td>0</td>\n",
              "    </tr>\n",
              "  </tbody>\n",
              "</table>\n",
              "</div><br><label><b>dtype:</b> int64</label>"
            ]
          },
          "metadata": {},
          "execution_count": 12
        }
      ]
    },
    {
      "cell_type": "code",
      "source": [
        "for col in df.columns:\n",
        "  print('{} : {}'.format(col, len(df[col].unique())))"
      ],
      "metadata": {
        "colab": {
          "base_uri": "https://localhost:8080/"
        },
        "id": "1l9DOWkJPoIF",
        "outputId": "cf8de9ef-9e2a-4dd7-9b0d-2725ea22b220"
      },
      "execution_count": 13,
      "outputs": [
        {
          "output_type": "stream",
          "name": "stdout",
          "text": [
            "Age : 60\n",
            "Gender : 2\n",
            "Tumor_Type : 2\n",
            "Tumor_Size : 20000\n",
            "Location : 4\n",
            "Histology : 4\n",
            "Stage : 4\n",
            "Symptom_1 : 4\n",
            "Symptom_2 : 4\n",
            "Symptom_3 : 4\n",
            "Radiation_Treatment : 2\n",
            "Surgery_Performed : 2\n",
            "Chemotherapy : 2\n",
            "Survival_Rate : 20000\n",
            "Tumor_Growth_Rate : 20000\n",
            "Family_History : 2\n",
            "MRI_Result : 2\n"
          ]
        }
      ]
    },
    {
      "cell_type": "code",
      "source": [
        "categ=['Gender', 'Tumor_Type', 'Location', 'Histology', 'Stage', 'Symptom_1', 'Symptom_2', 'Symptom_3', 'Radiation_Treatment', 'Surgery_Performed', 'Chemotherapy', 'Family_History', 'MRI_Result']"
      ],
      "metadata": {
        "id": "nZwDfpUFP8ns"
      },
      "execution_count": 14,
      "outputs": []
    },
    {
      "cell_type": "code",
      "source": [
        "cont = []\n",
        "for feat in df.columns:\n",
        "  if (feat not in categ):\n",
        "    cont.append(feat)\n"
      ],
      "metadata": {
        "id": "sWd5c1aLQrVc"
      },
      "execution_count": 15,
      "outputs": []
    },
    {
      "cell_type": "code",
      "source": [
        "categ"
      ],
      "metadata": {
        "colab": {
          "base_uri": "https://localhost:8080/"
        },
        "id": "bgAyVl3sSsZT",
        "outputId": "06398f85-4242-4732-a009-c6fef0a70880"
      },
      "execution_count": 16,
      "outputs": [
        {
          "output_type": "execute_result",
          "data": {
            "text/plain": [
              "['Gender',\n",
              " 'Tumor_Type',\n",
              " 'Location',\n",
              " 'Histology',\n",
              " 'Stage',\n",
              " 'Symptom_1',\n",
              " 'Symptom_2',\n",
              " 'Symptom_3',\n",
              " 'Radiation_Treatment',\n",
              " 'Surgery_Performed',\n",
              " 'Chemotherapy',\n",
              " 'Family_History',\n",
              " 'MRI_Result']"
            ]
          },
          "metadata": {},
          "execution_count": 16
        }
      ]
    },
    {
      "cell_type": "code",
      "source": [
        "cont"
      ],
      "metadata": {
        "colab": {
          "base_uri": "https://localhost:8080/"
        },
        "id": "4hcTVz4iSuOB",
        "outputId": "dda4aa04-7a95-4531-b3d2-0d56b3b6ec7a"
      },
      "execution_count": 17,
      "outputs": [
        {
          "output_type": "execute_result",
          "data": {
            "text/plain": [
              "['Age', 'Tumor_Size', 'Survival_Rate', 'Tumor_Growth_Rate']"
            ]
          },
          "metadata": {},
          "execution_count": 17
        }
      ]
    },
    {
      "cell_type": "code",
      "source": [
        "for name in categ:\n",
        "    dummies = pd.get_dummies(df[name], prefix=name, dummy_na=True, drop_first=False)\n",
        "    df=pd.concat([df,dummies],axis=1)\n",
        "df=df.drop(columns=categ)\n",
        "df.head()"
      ],
      "metadata": {
        "colab": {
          "base_uri": "https://localhost:8080/",
          "height": 255
        },
        "id": "kd2rEaJnS-Ky",
        "outputId": "0fd3937a-06a3-4a1f-a635-e3eebe8f6607"
      },
      "execution_count": 18,
      "outputs": [
        {
          "output_type": "execute_result",
          "data": {
            "text/plain": [
              "   Age  Tumor_Size  Survival_Rate  Tumor_Growth_Rate  Gender_Female  \\\n",
              "0   73    5.375612      51.312579           0.111876          False   \n",
              "1   26    4.847098      46.373273           2.165736          False   \n",
              "2   31    5.588391      47.072221           1.884228          False   \n",
              "3   29    1.436600      51.853634           1.283342          False   \n",
              "4   54    2.417506      54.708987           2.069477           True   \n",
              "\n",
              "   Gender_Male  Gender_nan  Tumor_Type_Benign  Tumor_Type_Malignant  \\\n",
              "0         True       False              False                  True   \n",
              "1         True       False               True                 False   \n",
              "2         True       False               True                 False   \n",
              "3         True       False              False                  True   \n",
              "4        False       False               True                 False   \n",
              "\n",
              "   Tumor_Type_nan  ...  Surgery_Performed_nan  Chemotherapy_No  \\\n",
              "0           False  ...                  False             True   \n",
              "1           False  ...                  False            False   \n",
              "2           False  ...                  False             True   \n",
              "3           False  ...                  False            False   \n",
              "4           False  ...                  False            False   \n",
              "\n",
              "   Chemotherapy_Yes  Chemotherapy_nan  Family_History_No  Family_History_Yes  \\\n",
              "0             False             False               True               False   \n",
              "1              True             False              False                True   \n",
              "2             False             False               True               False   \n",
              "3              True             False              False                True   \n",
              "4              True             False               True               False   \n",
              "\n",
              "   Family_History_nan  MRI_Result_Negative  MRI_Result_Positive  \\\n",
              "0               False                False                 True   \n",
              "1               False                False                 True   \n",
              "2               False                 True                False   \n",
              "3               False                 True                False   \n",
              "4               False                False                 True   \n",
              "\n",
              "   MRI_Result_nan  \n",
              "0           False  \n",
              "1           False  \n",
              "2           False  \n",
              "3           False  \n",
              "4           False  \n",
              "\n",
              "[5 rows x 55 columns]"
            ],
            "text/html": [
              "\n",
              "  <div id=\"df-37029f60-422f-44c3-8058-d3be23105abf\" class=\"colab-df-container\">\n",
              "    <div>\n",
              "<style scoped>\n",
              "    .dataframe tbody tr th:only-of-type {\n",
              "        vertical-align: middle;\n",
              "    }\n",
              "\n",
              "    .dataframe tbody tr th {\n",
              "        vertical-align: top;\n",
              "    }\n",
              "\n",
              "    .dataframe thead th {\n",
              "        text-align: right;\n",
              "    }\n",
              "</style>\n",
              "<table border=\"1\" class=\"dataframe\">\n",
              "  <thead>\n",
              "    <tr style=\"text-align: right;\">\n",
              "      <th></th>\n",
              "      <th>Age</th>\n",
              "      <th>Tumor_Size</th>\n",
              "      <th>Survival_Rate</th>\n",
              "      <th>Tumor_Growth_Rate</th>\n",
              "      <th>Gender_Female</th>\n",
              "      <th>Gender_Male</th>\n",
              "      <th>Gender_nan</th>\n",
              "      <th>Tumor_Type_Benign</th>\n",
              "      <th>Tumor_Type_Malignant</th>\n",
              "      <th>Tumor_Type_nan</th>\n",
              "      <th>...</th>\n",
              "      <th>Surgery_Performed_nan</th>\n",
              "      <th>Chemotherapy_No</th>\n",
              "      <th>Chemotherapy_Yes</th>\n",
              "      <th>Chemotherapy_nan</th>\n",
              "      <th>Family_History_No</th>\n",
              "      <th>Family_History_Yes</th>\n",
              "      <th>Family_History_nan</th>\n",
              "      <th>MRI_Result_Negative</th>\n",
              "      <th>MRI_Result_Positive</th>\n",
              "      <th>MRI_Result_nan</th>\n",
              "    </tr>\n",
              "  </thead>\n",
              "  <tbody>\n",
              "    <tr>\n",
              "      <th>0</th>\n",
              "      <td>73</td>\n",
              "      <td>5.375612</td>\n",
              "      <td>51.312579</td>\n",
              "      <td>0.111876</td>\n",
              "      <td>False</td>\n",
              "      <td>True</td>\n",
              "      <td>False</td>\n",
              "      <td>False</td>\n",
              "      <td>True</td>\n",
              "      <td>False</td>\n",
              "      <td>...</td>\n",
              "      <td>False</td>\n",
              "      <td>True</td>\n",
              "      <td>False</td>\n",
              "      <td>False</td>\n",
              "      <td>True</td>\n",
              "      <td>False</td>\n",
              "      <td>False</td>\n",
              "      <td>False</td>\n",
              "      <td>True</td>\n",
              "      <td>False</td>\n",
              "    </tr>\n",
              "    <tr>\n",
              "      <th>1</th>\n",
              "      <td>26</td>\n",
              "      <td>4.847098</td>\n",
              "      <td>46.373273</td>\n",
              "      <td>2.165736</td>\n",
              "      <td>False</td>\n",
              "      <td>True</td>\n",
              "      <td>False</td>\n",
              "      <td>True</td>\n",
              "      <td>False</td>\n",
              "      <td>False</td>\n",
              "      <td>...</td>\n",
              "      <td>False</td>\n",
              "      <td>False</td>\n",
              "      <td>True</td>\n",
              "      <td>False</td>\n",
              "      <td>False</td>\n",
              "      <td>True</td>\n",
              "      <td>False</td>\n",
              "      <td>False</td>\n",
              "      <td>True</td>\n",
              "      <td>False</td>\n",
              "    </tr>\n",
              "    <tr>\n",
              "      <th>2</th>\n",
              "      <td>31</td>\n",
              "      <td>5.588391</td>\n",
              "      <td>47.072221</td>\n",
              "      <td>1.884228</td>\n",
              "      <td>False</td>\n",
              "      <td>True</td>\n",
              "      <td>False</td>\n",
              "      <td>True</td>\n",
              "      <td>False</td>\n",
              "      <td>False</td>\n",
              "      <td>...</td>\n",
              "      <td>False</td>\n",
              "      <td>True</td>\n",
              "      <td>False</td>\n",
              "      <td>False</td>\n",
              "      <td>True</td>\n",
              "      <td>False</td>\n",
              "      <td>False</td>\n",
              "      <td>True</td>\n",
              "      <td>False</td>\n",
              "      <td>False</td>\n",
              "    </tr>\n",
              "    <tr>\n",
              "      <th>3</th>\n",
              "      <td>29</td>\n",
              "      <td>1.436600</td>\n",
              "      <td>51.853634</td>\n",
              "      <td>1.283342</td>\n",
              "      <td>False</td>\n",
              "      <td>True</td>\n",
              "      <td>False</td>\n",
              "      <td>False</td>\n",
              "      <td>True</td>\n",
              "      <td>False</td>\n",
              "      <td>...</td>\n",
              "      <td>False</td>\n",
              "      <td>False</td>\n",
              "      <td>True</td>\n",
              "      <td>False</td>\n",
              "      <td>False</td>\n",
              "      <td>True</td>\n",
              "      <td>False</td>\n",
              "      <td>True</td>\n",
              "      <td>False</td>\n",
              "      <td>False</td>\n",
              "    </tr>\n",
              "    <tr>\n",
              "      <th>4</th>\n",
              "      <td>54</td>\n",
              "      <td>2.417506</td>\n",
              "      <td>54.708987</td>\n",
              "      <td>2.069477</td>\n",
              "      <td>True</td>\n",
              "      <td>False</td>\n",
              "      <td>False</td>\n",
              "      <td>True</td>\n",
              "      <td>False</td>\n",
              "      <td>False</td>\n",
              "      <td>...</td>\n",
              "      <td>False</td>\n",
              "      <td>False</td>\n",
              "      <td>True</td>\n",
              "      <td>False</td>\n",
              "      <td>True</td>\n",
              "      <td>False</td>\n",
              "      <td>False</td>\n",
              "      <td>False</td>\n",
              "      <td>True</td>\n",
              "      <td>False</td>\n",
              "    </tr>\n",
              "  </tbody>\n",
              "</table>\n",
              "<p>5 rows × 55 columns</p>\n",
              "</div>\n",
              "    <div class=\"colab-df-buttons\">\n",
              "\n",
              "  <div class=\"colab-df-container\">\n",
              "    <button class=\"colab-df-convert\" onclick=\"convertToInteractive('df-37029f60-422f-44c3-8058-d3be23105abf')\"\n",
              "            title=\"Convert this dataframe to an interactive table.\"\n",
              "            style=\"display:none;\">\n",
              "\n",
              "  <svg xmlns=\"http://www.w3.org/2000/svg\" height=\"24px\" viewBox=\"0 -960 960 960\">\n",
              "    <path d=\"M120-120v-720h720v720H120Zm60-500h600v-160H180v160Zm220 220h160v-160H400v160Zm0 220h160v-160H400v160ZM180-400h160v-160H180v160Zm440 0h160v-160H620v160ZM180-180h160v-160H180v160Zm440 0h160v-160H620v160Z\"/>\n",
              "  </svg>\n",
              "    </button>\n",
              "\n",
              "  <style>\n",
              "    .colab-df-container {\n",
              "      display:flex;\n",
              "      gap: 12px;\n",
              "    }\n",
              "\n",
              "    .colab-df-convert {\n",
              "      background-color: #E8F0FE;\n",
              "      border: none;\n",
              "      border-radius: 50%;\n",
              "      cursor: pointer;\n",
              "      display: none;\n",
              "      fill: #1967D2;\n",
              "      height: 32px;\n",
              "      padding: 0 0 0 0;\n",
              "      width: 32px;\n",
              "    }\n",
              "\n",
              "    .colab-df-convert:hover {\n",
              "      background-color: #E2EBFA;\n",
              "      box-shadow: 0px 1px 2px rgba(60, 64, 67, 0.3), 0px 1px 3px 1px rgba(60, 64, 67, 0.15);\n",
              "      fill: #174EA6;\n",
              "    }\n",
              "\n",
              "    .colab-df-buttons div {\n",
              "      margin-bottom: 4px;\n",
              "    }\n",
              "\n",
              "    [theme=dark] .colab-df-convert {\n",
              "      background-color: #3B4455;\n",
              "      fill: #D2E3FC;\n",
              "    }\n",
              "\n",
              "    [theme=dark] .colab-df-convert:hover {\n",
              "      background-color: #434B5C;\n",
              "      box-shadow: 0px 1px 3px 1px rgba(0, 0, 0, 0.15);\n",
              "      filter: drop-shadow(0px 1px 2px rgba(0, 0, 0, 0.3));\n",
              "      fill: #FFFFFF;\n",
              "    }\n",
              "  </style>\n",
              "\n",
              "    <script>\n",
              "      const buttonEl =\n",
              "        document.querySelector('#df-37029f60-422f-44c3-8058-d3be23105abf button.colab-df-convert');\n",
              "      buttonEl.style.display =\n",
              "        google.colab.kernel.accessAllowed ? 'block' : 'none';\n",
              "\n",
              "      async function convertToInteractive(key) {\n",
              "        const element = document.querySelector('#df-37029f60-422f-44c3-8058-d3be23105abf');\n",
              "        const dataTable =\n",
              "          await google.colab.kernel.invokeFunction('convertToInteractive',\n",
              "                                                    [key], {});\n",
              "        if (!dataTable) return;\n",
              "\n",
              "        const docLinkHtml = 'Like what you see? Visit the ' +\n",
              "          '<a target=\"_blank\" href=https://colab.research.google.com/notebooks/data_table.ipynb>data table notebook</a>'\n",
              "          + ' to learn more about interactive tables.';\n",
              "        element.innerHTML = '';\n",
              "        dataTable['output_type'] = 'display_data';\n",
              "        await google.colab.output.renderOutput(dataTable, element);\n",
              "        const docLink = document.createElement('div');\n",
              "        docLink.innerHTML = docLinkHtml;\n",
              "        element.appendChild(docLink);\n",
              "      }\n",
              "    </script>\n",
              "  </div>\n",
              "\n",
              "\n",
              "<div id=\"df-6f768c1c-a96d-4434-b07d-30550406f3bb\">\n",
              "  <button class=\"colab-df-quickchart\" onclick=\"quickchart('df-6f768c1c-a96d-4434-b07d-30550406f3bb')\"\n",
              "            title=\"Suggest charts\"\n",
              "            style=\"display:none;\">\n",
              "\n",
              "<svg xmlns=\"http://www.w3.org/2000/svg\" height=\"24px\"viewBox=\"0 0 24 24\"\n",
              "     width=\"24px\">\n",
              "    <g>\n",
              "        <path d=\"M19 3H5c-1.1 0-2 .9-2 2v14c0 1.1.9 2 2 2h14c1.1 0 2-.9 2-2V5c0-1.1-.9-2-2-2zM9 17H7v-7h2v7zm4 0h-2V7h2v10zm4 0h-2v-4h2v4z\"/>\n",
              "    </g>\n",
              "</svg>\n",
              "  </button>\n",
              "\n",
              "<style>\n",
              "  .colab-df-quickchart {\n",
              "      --bg-color: #E8F0FE;\n",
              "      --fill-color: #1967D2;\n",
              "      --hover-bg-color: #E2EBFA;\n",
              "      --hover-fill-color: #174EA6;\n",
              "      --disabled-fill-color: #AAA;\n",
              "      --disabled-bg-color: #DDD;\n",
              "  }\n",
              "\n",
              "  [theme=dark] .colab-df-quickchart {\n",
              "      --bg-color: #3B4455;\n",
              "      --fill-color: #D2E3FC;\n",
              "      --hover-bg-color: #434B5C;\n",
              "      --hover-fill-color: #FFFFFF;\n",
              "      --disabled-bg-color: #3B4455;\n",
              "      --disabled-fill-color: #666;\n",
              "  }\n",
              "\n",
              "  .colab-df-quickchart {\n",
              "    background-color: var(--bg-color);\n",
              "    border: none;\n",
              "    border-radius: 50%;\n",
              "    cursor: pointer;\n",
              "    display: none;\n",
              "    fill: var(--fill-color);\n",
              "    height: 32px;\n",
              "    padding: 0;\n",
              "    width: 32px;\n",
              "  }\n",
              "\n",
              "  .colab-df-quickchart:hover {\n",
              "    background-color: var(--hover-bg-color);\n",
              "    box-shadow: 0 1px 2px rgba(60, 64, 67, 0.3), 0 1px 3px 1px rgba(60, 64, 67, 0.15);\n",
              "    fill: var(--button-hover-fill-color);\n",
              "  }\n",
              "\n",
              "  .colab-df-quickchart-complete:disabled,\n",
              "  .colab-df-quickchart-complete:disabled:hover {\n",
              "    background-color: var(--disabled-bg-color);\n",
              "    fill: var(--disabled-fill-color);\n",
              "    box-shadow: none;\n",
              "  }\n",
              "\n",
              "  .colab-df-spinner {\n",
              "    border: 2px solid var(--fill-color);\n",
              "    border-color: transparent;\n",
              "    border-bottom-color: var(--fill-color);\n",
              "    animation:\n",
              "      spin 1s steps(1) infinite;\n",
              "  }\n",
              "\n",
              "  @keyframes spin {\n",
              "    0% {\n",
              "      border-color: transparent;\n",
              "      border-bottom-color: var(--fill-color);\n",
              "      border-left-color: var(--fill-color);\n",
              "    }\n",
              "    20% {\n",
              "      border-color: transparent;\n",
              "      border-left-color: var(--fill-color);\n",
              "      border-top-color: var(--fill-color);\n",
              "    }\n",
              "    30% {\n",
              "      border-color: transparent;\n",
              "      border-left-color: var(--fill-color);\n",
              "      border-top-color: var(--fill-color);\n",
              "      border-right-color: var(--fill-color);\n",
              "    }\n",
              "    40% {\n",
              "      border-color: transparent;\n",
              "      border-right-color: var(--fill-color);\n",
              "      border-top-color: var(--fill-color);\n",
              "    }\n",
              "    60% {\n",
              "      border-color: transparent;\n",
              "      border-right-color: var(--fill-color);\n",
              "    }\n",
              "    80% {\n",
              "      border-color: transparent;\n",
              "      border-right-color: var(--fill-color);\n",
              "      border-bottom-color: var(--fill-color);\n",
              "    }\n",
              "    90% {\n",
              "      border-color: transparent;\n",
              "      border-bottom-color: var(--fill-color);\n",
              "    }\n",
              "  }\n",
              "</style>\n",
              "\n",
              "  <script>\n",
              "    async function quickchart(key) {\n",
              "      const quickchartButtonEl =\n",
              "        document.querySelector('#' + key + ' button');\n",
              "      quickchartButtonEl.disabled = true;  // To prevent multiple clicks.\n",
              "      quickchartButtonEl.classList.add('colab-df-spinner');\n",
              "      try {\n",
              "        const charts = await google.colab.kernel.invokeFunction(\n",
              "            'suggestCharts', [key], {});\n",
              "      } catch (error) {\n",
              "        console.error('Error during call to suggestCharts:', error);\n",
              "      }\n",
              "      quickchartButtonEl.classList.remove('colab-df-spinner');\n",
              "      quickchartButtonEl.classList.add('colab-df-quickchart-complete');\n",
              "    }\n",
              "    (() => {\n",
              "      let quickchartButtonEl =\n",
              "        document.querySelector('#df-6f768c1c-a96d-4434-b07d-30550406f3bb button');\n",
              "      quickchartButtonEl.style.display =\n",
              "        google.colab.kernel.accessAllowed ? 'block' : 'none';\n",
              "    })();\n",
              "  </script>\n",
              "</div>\n",
              "    </div>\n",
              "  </div>\n"
            ],
            "application/vnd.google.colaboratory.intrinsic+json": {
              "type": "dataframe",
              "variable_name": "df"
            }
          },
          "metadata": {},
          "execution_count": 18
        }
      ]
    },
    {
      "cell_type": "code",
      "source": [
        "import seaborn as sns\n",
        "fig=plt.figure(figsize=(20,10))\n",
        "\n",
        "for i, name in enumerate(cont):\n",
        "    ax=fig.add_subplot(1,len(cont), i+1)\n",
        "    sns.boxplot(y=df[name], ax=ax)\n",
        "\n",
        "fig.tight_layout()"
      ],
      "metadata": {
        "colab": {
          "base_uri": "https://localhost:8080/",
          "height": 571
        },
        "id": "-zhWu1F4TRa2",
        "outputId": "e3303b4d-97da-4560-a040-b94127dad21a"
      },
      "execution_count": 19,
      "outputs": [
        {
          "output_type": "display_data",
          "data": {
            "text/plain": [
              "<Figure size 2000x1000 with 4 Axes>"
            ],
            "image/png": "[encoded data removed]"
          },
          "metadata": {}
        }
      ]
    },
    {
      "cell_type": "code",
      "source": [
        "from sklearn.preprocessing import QuantileTransformer\n",
        "qs = QuantileTransformer(n_quantiles=10, random_state=0, output_distribution='uniform')\n",
        "df[cont]=qs.fit_transform(df[cont])"
      ],
      "metadata": {
        "id": "m7qyYEppZgM2"
      },
      "execution_count": 69,
      "outputs": []
    },
    {
      "cell_type": "code",
      "source": [
        "import seaborn as sns\n",
        "fig=plt.figure(figsize=(20,10))\n",
        "\n",
        "for i, name in enumerate(cont):\n",
        "    ax=fig.add_subplot(1,len(cont), i+1)\n",
        "    sns.boxplot(y=df[name], ax=ax)\n",
        "\n",
        "fig.tight_layout()"
      ],
      "metadata": {
        "colab": {
          "base_uri": "https://localhost:8080/",
          "height": 570
        },
        "id": "C8kRKXSkZnAC",
        "outputId": "a0ba3d1e-6a29-4246-c14b-690d971019f4"
      },
      "execution_count": 70,
      "outputs": [
        {
          "output_type": "display_data",
          "data": {
            "text/plain": [
              "<Figure size 2000x1000 with 4 Axes>"
            ],
            "image/png": "[encoded data removed]"
          },
          "metadata": {}
        }
      ]
    },
    {
      "cell_type": "code",
      "source": [
        "df.head()"
      ],
      "metadata": {
        "colab": {
          "base_uri": "https://localhost:8080/",
          "height": 255
        },
        "id": "6ts1UEKUZo8l",
        "outputId": "931f9ca5-2a65-48b9-b171-7227532037b2"
      },
      "execution_count": 71,
      "outputs": [
        {
          "output_type": "execute_result",
          "data": {
            "text/plain": [
              "        Age  Tumor_Size  Survival_Rate  Tumor_Growth_Rate  Gender_Female  \\\n",
              "0  0.888889    0.520457       0.188717           0.071318          False   \n",
              "1  0.111111    0.462490       0.110102           0.717919          False   \n",
              "2  0.195066    0.543849       0.116996           0.621413          False   \n",
              "3  0.164957    0.109132       0.196534           0.408487          False   \n",
              "4  0.586443    0.210852       0.239709           0.685641           True   \n",
              "\n",
              "   Gender_Male  Gender_nan  Tumor_Type_Benign  Tumor_Type_Malignant  \\\n",
              "0         True       False              False                  True   \n",
              "1         True       False               True                 False   \n",
              "2         True       False               True                 False   \n",
              "3         True       False              False                  True   \n",
              "4        False       False               True                 False   \n",
              "\n",
              "   Tumor_Type_nan  ...  Surgery_Performed_nan  Chemotherapy_No  \\\n",
              "0           False  ...                  False             True   \n",
              "1           False  ...                  False            False   \n",
              "2           False  ...                  False             True   \n",
              "3           False  ...                  False            False   \n",
              "4           False  ...                  False            False   \n",
              "\n",
              "   Chemotherapy_Yes  Chemotherapy_nan  Family_History_No  Family_History_Yes  \\\n",
              "0             False             False               True               False   \n",
              "1              True             False              False                True   \n",
              "2             False             False               True               False   \n",
              "3              True             False              False                True   \n",
              "4              True             False               True               False   \n",
              "\n",
              "   Family_History_nan  MRI_Result_Negative  MRI_Result_Positive  \\\n",
              "0               False                False                 True   \n",
              "1               False                False                 True   \n",
              "2               False                 True                False   \n",
              "3               False                 True                False   \n",
              "4               False                False                 True   \n",
              "\n",
              "   MRI_Result_nan  \n",
              "0           False  \n",
              "1           False  \n",
              "2           False  \n",
              "3           False  \n",
              "4           False  \n",
              "\n",
              "[5 rows x 55 columns]"
            ],
            "text/html": [
              "\n",
              "  <div id=\"df-873ccaa5-6a97-4af1-9ed3-48ab1d7f35c8\" class=\"colab-df-container\">\n",
              "    <div>\n",
              "<style scoped>\n",
              "    .dataframe tbody tr th:only-of-type {\n",
              "        vertical-align: middle;\n",
              "    }\n",
              "\n",
              "    .dataframe tbody tr th {\n",
              "        vertical-align: top;\n",
              "    }\n",
              "\n",
              "    .dataframe thead th {\n",
              "        text-align: right;\n",
              "    }\n",
              "</style>\n",
              "<table border=\"1\" class=\"dataframe\">\n",
              "  <thead>\n",
              "    <tr style=\"text-align: right;\">\n",
              "      <th></th>\n",
              "      <th>Age</th>\n",
              "      <th>Tumor_Size</th>\n",
              "      <th>Survival_Rate</th>\n",
              "      <th>Tumor_Growth_Rate</th>\n",
              "      <th>Gender_Female</th>\n",
              "      <th>Gender_Male</th>\n",
              "      <th>Gender_nan</th>\n",
              "      <th>Tumor_Type_Benign</th>\n",
              "      <th>Tumor_Type_Malignant</th>\n",
              "      <th>Tumor_Type_nan</th>\n",
              "      <th>...</th>\n",
              "      <th>Surgery_Performed_nan</th>\n",
              "      <th>Chemotherapy_No</th>\n",
              "      <th>Chemotherapy_Yes</th>\n",
              "      <th>Chemotherapy_nan</th>\n",
              "      <th>Family_History_No</th>\n",
              "      <th>Family_History_Yes</th>\n",
              "      <th>Family_History_nan</th>\n",
              "      <th>MRI_Result_Negative</th>\n",
              "      <th>MRI_Result_Positive</th>\n",
              "      <th>MRI_Result_nan</th>\n",
              "    </tr>\n",
              "  </thead>\n",
              "  <tbody>\n",
              "    <tr>\n",
              "      <th>0</th>\n",
              "      <td>0.888889</td>\n",
              "      <td>0.520457</td>\n",
              "      <td>0.188717</td>\n",
              "      <td>0.071318</td>\n",
              "      <td>False</td>\n",
              "      <td>True</td>\n",
              "      <td>False</td>\n",
              "      <td>False</td>\n",
              "      <td>True</td>\n",
              "      <td>False</td>\n",
              "      <td>...</td>\n",
              "      <td>False</td>\n",
              "      <td>True</td>\n",
              "      <td>False</td>\n",
              "      <td>False</td>\n",
              "      <td>True</td>\n",
              "      <td>False</td>\n",
              "      <td>False</td>\n",
              "      <td>False</td>\n",
              "      <td>True</td>\n",
              "      <td>False</td>\n",
              "    </tr>\n",
              "    <tr>\n",
              "      <th>1</th>\n",
              "      <td>0.111111</td>\n",
              "      <td>0.462490</td>\n",
              "      <td>0.110102</td>\n",
              "      <td>0.717919</td>\n",
              "      <td>False</td>\n",
              "      <td>True</td>\n",
              "      <td>False</td>\n",
              "      <td>True</td>\n",
              "      <td>False</td>\n",
              "      <td>False</td>\n",
              "      <td>...</td>\n",
              "      <td>False</td>\n",
              "      <td>False</td>\n",
              "      <td>True</td>\n",
              "      <td>False</td>\n",
              "      <td>False</td>\n",
              "      <td>True</td>\n",
              "      <td>False</td>\n",
              "      <td>False</td>\n",
              "      <td>True</td>\n",
              "      <td>False</td>\n",
              "    </tr>\n",
              "    <tr>\n",
              "      <th>2</th>\n",
              "      <td>0.195066</td>\n",
              "      <td>0.543849</td>\n",
              "      <td>0.116996</td>\n",
              "      <td>0.621413</td>\n",
              "      <td>False</td>\n",
              "      <td>True</td>\n",
              "      <td>False</td>\n",
              "      <td>True</td>\n",
              "      <td>False</td>\n",
              "      <td>False</td>\n",
              "      <td>...</td>\n",
              "      <td>False</td>\n",
              "      <td>True</td>\n",
              "      <td>False</td>\n",
              "      <td>False</td>\n",
              "      <td>True</td>\n",
              "      <td>False</td>\n",
              "      <td>False</td>\n",
              "      <td>True</td>\n",
              "      <td>False</td>\n",
              "      <td>False</td>\n",
              "    </tr>\n",
              "    <tr>\n",
              "      <th>3</th>\n",
              "      <td>0.164957</td>\n",
              "      <td>0.109132</td>\n",
              "      <td>0.196534</td>\n",
              "      <td>0.408487</td>\n",
              "      <td>False</td>\n",
              "      <td>True</td>\n",
              "      <td>False</td>\n",
              "      <td>False</td>\n",
              "      <td>True</td>\n",
              "      <td>False</td>\n",
              "      <td>...</td>\n",
              "      <td>False</td>\n",
              "      <td>False</td>\n",
              "      <td>True</td>\n",
              "      <td>False</td>\n",
              "      <td>False</td>\n",
              "      <td>True</td>\n",
              "      <td>False</td>\n",
              "      <td>True</td>\n",
              "      <td>False</td>\n",
              "      <td>False</td>\n",
              "    </tr>\n",
              "    <tr>\n",
              "      <th>4</th>\n",
              "      <td>0.586443</td>\n",
              "      <td>0.210852</td>\n",
              "      <td>0.239709</td>\n",
              "      <td>0.685641</td>\n",
              "      <td>True</td>\n",
              "      <td>False</td>\n",
              "      <td>False</td>\n",
              "      <td>True</td>\n",
              "      <td>False</td>\n",
              "      <td>False</td>\n",
              "      <td>...</td>\n",
              "      <td>False</td>\n",
              "      <td>False</td>\n",
              "      <td>True</td>\n",
              "      <td>False</td>\n",
              "      <td>True</td>\n",
              "      <td>False</td>\n",
              "      <td>False</td>\n",
              "      <td>False</td>\n",
              "      <td>True</td>\n",
              "      <td>False</td>\n",
              "    </tr>\n",
              "  </tbody>\n",
              "</table>\n",
              "<p>5 rows × 55 columns</p>\n",
              "</div>\n",
              "    <div class=\"colab-df-buttons\">\n",
              "\n",
              "  <div class=\"colab-df-container\">\n",
              "    <button class=\"colab-df-convert\" onclick=\"convertToInteractive('df-873ccaa5-6a97-4af1-9ed3-48ab1d7f35c8')\"\n",
              "            title=\"Convert this dataframe to an interactive table.\"\n",
              "            style=\"display:none;\">\n",
              "\n",
              "  <svg xmlns=\"http://www.w3.org/2000/svg\" height=\"24px\" viewBox=\"0 -960 960 960\">\n",
              "    <path d=\"M120-120v-720h720v720H120Zm60-500h600v-160H180v160Zm220 220h160v-160H400v160Zm0 220h160v-160H400v160ZM180-400h160v-160H180v160Zm440 0h160v-160H620v160ZM180-180h160v-160H180v160Zm440 0h160v-160H620v160Z\"/>\n",
              "  </svg>\n",
              "    </button>\n",
              "\n",
              "  <style>\n",
              "    .colab-df-container {\n",
              "      display:flex;\n",
              "      gap: 12px;\n",
              "    }\n",
              "\n",
              "    .colab-df-convert {\n",
              "      background-color: #E8F0FE;\n",
              "      border: none;\n",
              "      border-radius: 50%;\n",
              "      cursor: pointer;\n",
              "      display: none;\n",
              "      fill: #1967D2;\n",
              "      height: 32px;\n",
              "      padding: 0 0 0 0;\n",
              "      width: 32px;\n",
              "    }\n",
              "\n",
              "    .colab-df-convert:hover {\n",
              "      background-color: #E2EBFA;\n",
              "      box-shadow: 0px 1px 2px rgba(60, 64, 67, 0.3), 0px 1px 3px 1px rgba(60, 64, 67, 0.15);\n",
              "      fill: #174EA6;\n",
              "    }\n",
              "\n",
              "    .colab-df-buttons div {\n",
              "      margin-bottom: 4px;\n",
              "    }\n",
              "\n",
              "    [theme=dark] .colab-df-convert {\n",
              "      background-color: #3B4455;\n",
              "      fill: #D2E3FC;\n",
              "    }\n",
              "\n",
              "    [theme=dark] .colab-df-convert:hover {\n",
              "      background-color: #434B5C;\n",
              "      box-shadow: 0px 1px 3px 1px rgba(0, 0, 0, 0.15);\n",
              "      filter: drop-shadow(0px 1px 2px rgba(0, 0, 0, 0.3));\n",
              "      fill: #FFFFFF;\n",
              "    }\n",
              "  </style>\n",
              "\n",
              "    <script>\n",
              "      const buttonEl =\n",
              "        document.querySelector('#df-873ccaa5-6a97-4af1-9ed3-48ab1d7f35c8 button.colab-df-convert');\n",
              "      buttonEl.style.display =\n",
              "        google.colab.kernel.accessAllowed ? 'block' : 'none';\n",
              "\n",
              "      async function convertToInteractive(key) {\n",
              "        const element = document.querySelector('#df-873ccaa5-6a97-4af1-9ed3-48ab1d7f35c8');\n",
              "        const dataTable =\n",
              "          await google.colab.kernel.invokeFunction('convertToInteractive',\n",
              "                                                    [key], {});\n",
              "        if (!dataTable) return;\n",
              "\n",
              "        const docLinkHtml = 'Like what you see? Visit the ' +\n",
              "          '<a target=\"_blank\" href=https://colab.research.google.com/notebooks/data_table.ipynb>data table notebook</a>'\n",
              "          + ' to learn more about interactive tables.';\n",
              "        element.innerHTML = '';\n",
              "        dataTable['output_type'] = 'display_data';\n",
              "        await google.colab.output.renderOutput(dataTable, element);\n",
              "        const docLink = document.createElement('div');\n",
              "        docLink.innerHTML = docLinkHtml;\n",
              "        element.appendChild(docLink);\n",
              "      }\n",
              "    </script>\n",
              "  </div>\n",
              "\n",
              "\n",
              "<div id=\"df-b8fd7408-5c68-4470-b9a7-b0b40799782f\">\n",
              "  <button class=\"colab-df-quickchart\" onclick=\"quickchart('df-b8fd7408-5c68-4470-b9a7-b0b40799782f')\"\n",
              "            title=\"Suggest charts\"\n",
              "            style=\"display:none;\">\n",
              "\n",
              "<svg xmlns=\"http://www.w3.org/2000/svg\" height=\"24px\"viewBox=\"0 0 24 24\"\n",
              "     width=\"24px\">\n",
              "    <g>\n",
              "        <path d=\"M19 3H5c-1.1 0-2 .9-2 2v14c0 1.1.9 2 2 2h14c1.1 0 2-.9 2-2V5c0-1.1-.9-2-2-2zM9 17H7v-7h2v7zm4 0h-2V7h2v10zm4 0h-2v-4h2v4z\"/>\n",
              "    </g>\n",
              "</svg>\n",
              "  </button>\n",
              "\n",
              "<style>\n",
              "  .colab-df-quickchart {\n",
              "      --bg-color: #E8F0FE;\n",
              "      --fill-color: #1967D2;\n",
              "      --hover-bg-color: #E2EBFA;\n",
              "      --hover-fill-color: #174EA6;\n",
              "      --disabled-fill-color: #AAA;\n",
              "      --disabled-bg-color: #DDD;\n",
              "  }\n",
              "\n",
              "  [theme=dark] .colab-df-quickchart {\n",
              "      --bg-color: #3B4455;\n",
              "      --fill-color: #D2E3FC;\n",
              "      --hover-bg-color: #434B5C;\n",
              "      --hover-fill-color: #FFFFFF;\n",
              "      --disabled-bg-color: #3B4455;\n",
              "      --disabled-fill-color: #666;\n",
              "  }\n",
              "\n",
              "  .colab-df-quickchart {\n",
              "    background-color: var(--bg-color);\n",
              "    border: none;\n",
              "    border-radius: 50%;\n",
              "    cursor: pointer;\n",
              "    display: none;\n",
              "    fill: var(--fill-color);\n",
              "    height: 32px;\n",
              "    padding: 0;\n",
              "    width: 32px;\n",
              "  }\n",
              "\n",
              "  .colab-df-quickchart:hover {\n",
              "    background-color: var(--hover-bg-color);\n",
              "    box-shadow: 0 1px 2px rgba(60, 64, 67, 0.3), 0 1px 3px 1px rgba(60, 64, 67, 0.15);\n",
              "    fill: var(--button-hover-fill-color);\n",
              "  }\n",
              "\n",
              "  .colab-df-quickchart-complete:disabled,\n",
              "  .colab-df-quickchart-complete:disabled:hover {\n",
              "    background-color: var(--disabled-bg-color);\n",
              "    fill: var(--disabled-fill-color);\n",
              "    box-shadow: none;\n",
              "  }\n",
              "\n",
              "  .colab-df-spinner {\n",
              "    border: 2px solid var(--fill-color);\n",
              "    border-color: transparent;\n",
              "    border-bottom-color: var(--fill-color);\n",
              "    animation:\n",
              "      spin 1s steps(1) infinite;\n",
              "  }\n",
              "\n",
              "  @keyframes spin {\n",
              "    0% {\n",
              "      border-color: transparent;\n",
              "      border-bottom-color: var(--fill-color);\n",
              "      border-left-color: var(--fill-color);\n",
              "    }\n",
              "    20% {\n",
              "      border-color: transparent;\n",
              "      border-left-color: var(--fill-color);\n",
              "      border-top-color: var(--fill-color);\n",
              "    }\n",
              "    30% {\n",
              "      border-color: transparent;\n",
              "      border-left-color: var(--fill-color);\n",
              "      border-top-color: var(--fill-color);\n",
              "      border-right-color: var(--fill-color);\n",
              "    }\n",
              "    40% {\n",
              "      border-color: transparent;\n",
              "      border-right-color: var(--fill-color);\n",
              "      border-top-color: var(--fill-color);\n",
              "    }\n",
              "    60% {\n",
              "      border-color: transparent;\n",
              "      border-right-color: var(--fill-color);\n",
              "    }\n",
              "    80% {\n",
              "      border-color: transparent;\n",
              "      border-right-color: var(--fill-color);\n",
              "      border-bottom-color: var(--fill-color);\n",
              "    }\n",
              "    90% {\n",
              "      border-color: transparent;\n",
              "      border-bottom-color: var(--fill-color);\n",
              "    }\n",
              "  }\n",
              "</style>\n",
              "\n",
              "  <script>\n",
              "    async function quickchart(key) {\n",
              "      const quickchartButtonEl =\n",
              "        document.querySelector('#' + key + ' button');\n",
              "      quickchartButtonEl.disabled = true;  // To prevent multiple clicks.\n",
              "      quickchartButtonEl.classList.add('colab-df-spinner');\n",
              "      try {\n",
              "        const charts = await google.colab.kernel.invokeFunction(\n",
              "            'suggestCharts', [key], {});\n",
              "      } catch (error) {\n",
              "        console.error('Error during call to suggestCharts:', error);\n",
              "      }\n",
              "      quickchartButtonEl.classList.remove('colab-df-spinner');\n",
              "      quickchartButtonEl.classList.add('colab-df-quickchart-complete');\n",
              "    }\n",
              "    (() => {\n",
              "      let quickchartButtonEl =\n",
              "        document.querySelector('#df-b8fd7408-5c68-4470-b9a7-b0b40799782f button');\n",
              "      quickchartButtonEl.style.display =\n",
              "        google.colab.kernel.accessAllowed ? 'block' : 'none';\n",
              "    })();\n",
              "  </script>\n",
              "</div>\n",
              "    </div>\n",
              "  </div>\n"
            ],
            "application/vnd.google.colaboratory.intrinsic+json": {
              "type": "dataframe",
              "variable_name": "df"
            }
          },
          "metadata": {},
          "execution_count": 71
        }
      ]
    },
    {
      "cell_type": "markdown",
      "source": [],
      "metadata": {
        "id": "xKBCbIaBqn7E"
      }
    },
    {
      "cell_type": "markdown",
      "source": [
        "# Датасеты, загрузка, модель"
      ],
      "metadata": {
        "id": "itsKhI-0q-uI"
      }
    },
    {
      "cell_type": "code",
      "source": [
        "X=np.array(df.values, dtype=np.float32)\n",
        "y=target.values"
      ],
      "metadata": {
        "id": "D3H-E72PrmYc"
      },
      "execution_count": 72,
      "outputs": []
    },
    {
      "cell_type": "code",
      "source": [
        "from sklearn.utils.class_weight import compute_class_weight\n",
        "class_weights = compute_class_weight(class_weight='balanced', classes=np.array([0,1]), y=y)\n",
        "class_weights = np.array([x for x in class_weights], dtype=np.float32)\n",
        "class_weights"
      ],
      "metadata": {
        "colab": {
          "base_uri": "https://localhost:8080/"
        },
        "id": "KRdhv73CrC8g",
        "outputId": "f887c79a-8e55-4d1f-a87f-a913d3492fca"
      },
      "execution_count": 73,
      "outputs": [
        {
          "output_type": "execute_result",
          "data": {
            "text/plain": [
              "array([1.010203  , 0.99000096], dtype=float32)"
            ]
          },
          "metadata": {},
          "execution_count": 73
        }
      ]
    },
    {
      "cell_type": "code",
      "source": [
        "from sklearn.model_selection import train_test_split\n",
        "X_train, X_dum, y_train, y_dum=train_test_split(X,y, test_size=0.2, stratify=y)\n",
        "X_val, X_test, y_val, y_test= train_test_split(X_dum, y_dum ,test_size=0.5, stratify=y_dum)"
      ],
      "metadata": {
        "id": "YU5KOOCyu04_"
      },
      "execution_count": 74,
      "outputs": []
    },
    {
      "cell_type": "code",
      "source": [
        "import torch\n",
        "import torch.optim as optim\n",
        "import torch.nn as nn\n",
        "from torch.utils.data import Dataset, TensorDataset, DataLoader"
      ],
      "metadata": {
        "id": "0vJ2JS34wwMs"
      },
      "execution_count": 75,
      "outputs": []
    },
    {
      "cell_type": "code",
      "source": [
        "class MyDataset(Dataset):\n",
        "  def __init__(self, data, targets, transform=None):\n",
        "      self.data = torch.Tensor(data)\n",
        "      self.targets = torch.LongTensor(targets)\n",
        "      self.transform = transform\n",
        "\n",
        "  def __getitem__(self, index):\n",
        "      x = self.data[index]\n",
        "      y = self.targets[index]\n",
        "      return x, y\n",
        "\n",
        "  def get_labels(self): # исключительно для ImbalancedDatasetSampler, иначе прописовать не надо\n",
        "    return self.targets\n",
        "\n",
        "  def __len__(self):\n",
        "      return len(self.data)"
      ],
      "metadata": {
        "id": "Z3TRd4zvw6BP"
      },
      "execution_count": 76,
      "outputs": []
    },
    {
      "cell_type": "code",
      "source": [
        "train_dataset=MyDataset(X_train,y_train)\n",
        "val_dataset=MyDataset(X_val,y_val)\n",
        "test_dataset=MyDataset(X_test,y_test)"
      ],
      "metadata": {
        "id": "UVeTJI42xWkc"
      },
      "execution_count": 77,
      "outputs": []
    },
    {
      "cell_type": "code",
      "source": [
        "print(f'''Длина тестовой выборки: {len(test_dataset)}\n",
        "Длина валидационной выборки: {len(val_dataset)}\n",
        "Длина тренировочной выборки: {len(train_dataset)}''')"
      ],
      "metadata": {
        "colab": {
          "base_uri": "https://localhost:8080/"
        },
        "id": "P0cTflSVx5Cz",
        "outputId": "71dea69a-0057-49ac-9a87-6776bfeb4d4f"
      },
      "execution_count": 78,
      "outputs": [
        {
          "output_type": "stream",
          "name": "stdout",
          "text": [
            "Длина тестовой выборки: 2000\n",
            "Длина валидационной выборки: 2000\n",
            "Длина тренировочной выборки: 16000\n"
          ]
        }
      ]
    },
    {
      "cell_type": "code",
      "source": [
        "import torchvision\n",
        "from typing import Callable\n",
        "class ImbalancedDatasetSampler(torch.utils.data.sampler.Sampler):\n",
        "\n",
        "    \"\"\"Samples elements randomly from a given list of indices for imbalanced dataset\n",
        "\n",
        "    Arguments:\n",
        "        indices: a list of indices\n",
        "        num_samples: number of samples to draw\n",
        "        callback_get_label: a callback-like function which takes two arguments - dataset and index\n",
        "    Author: ufoym\n",
        "    \"\"\"\n",
        "\n",
        "    def __init__(\n",
        "        self,\n",
        "        dataset,\n",
        "        labels: list = None,\n",
        "        indices: list = None,\n",
        "        num_samples: int = None,\n",
        "        callback_get_label: Callable = None,\n",
        "    ):\n",
        "        # if indices is not provided, all elements in the dataset will be considered\n",
        "        self.indices = list(range(len(dataset))) if indices is None else indices\n",
        "\n",
        "        # define custom callback\n",
        "        self.callback_get_label = callback_get_label\n",
        "\n",
        "        # if num_samples is not provided, draw `len(indices)` samples in each iteration\n",
        "        self.num_samples = len(self.indices) if num_samples is None else num_samples\n",
        "\n",
        "        # distribution of classes in the dataset\n",
        "        df = pd.DataFrame()\n",
        "        df[\"label\"] = self._get_labels(dataset) if labels is None else labels\n",
        "        df.index = self.indices\n",
        "        df = df.sort_index()\n",
        "\n",
        "        label_to_count = df[\"label\"].value_counts()\n",
        "\n",
        "        weights = 1.0 / label_to_count[df[\"label\"]]\n",
        "\n",
        "        self.weights = torch.DoubleTensor(weights.to_list())\n",
        "\n",
        "    def _get_labels(self, dataset):\n",
        "        if self.callback_get_label:\n",
        "            return self.callback_get_label(dataset)\n",
        "        elif isinstance(dataset, torch.utils.data.TensorDataset):\n",
        "            return dataset.tensors[1]\n",
        "        elif isinstance(dataset, torchvision.datasets.MNIST):\n",
        "            return dataset.train_labels.tolist()\n",
        "        elif isinstance(dataset, torchvision.datasets.ImageFolder):\n",
        "            return [x[1] for x in dataset.imgs]\n",
        "        elif isinstance(dataset, torchvision.datasets.DatasetFolder):\n",
        "            return dataset.samples[:][1]\n",
        "        elif isinstance(dataset, torch.utils.data.Subset):\n",
        "            return dataset.dataset.imgs[:][1]\n",
        "        elif isinstance(dataset, torch.utils.data.Dataset):\n",
        "            return dataset.get_labels()\n",
        "        else:\n",
        "            raise NotImplementedError\n",
        "\n",
        "    def __iter__(self):\n",
        "        return (self.indices[i] for i in torch.multinomial(self.weights, self.num_samples, replacement=True))\n",
        "\n",
        "    def __len__(self):\n",
        "        return self.num_samples"
      ],
      "metadata": {
        "id": "c6I7BQSaytKD"
      },
      "execution_count": 79,
      "outputs": []
    },
    {
      "cell_type": "code",
      "source": [
        "batch_size=64 # размер пакета\n",
        "train_loader = DataLoader(train_dataset, batch_size=batch_size,shuffle=False,\n",
        "                          sampler=ImbalancedDatasetSampler(train_dataset))\n",
        "# у train пакеты формируются по броску подкрученной монетки, у test и val по равномерной\n",
        "val_loader = DataLoader(val_dataset, batch_size=batch_size,shuffle=True)\n",
        "test_loader = DataLoader(test_dataset, batch_size=batch_size,shuffle=True)"
      ],
      "metadata": {
        "id": "vEj_sx6mzzap"
      },
      "execution_count": 80,
      "outputs": []
    },
    {
      "cell_type": "code",
      "source": [
        "class Classification_Model_FFNN(nn.Module):\n",
        "  def __init__(self, num_inputs, num_classes):\n",
        "      super(Classification_Model_FFNN, self).__init__()\n",
        "      self.pipe = nn.Sequential(\n",
        "          nn.Linear(num_inputs, 64, bias=False),\n",
        "          nn.LeakyReLU(inplace=True),\n",
        "          nn.BatchNorm1d(64),\n",
        "          nn.Dropout(0.3),  # Dropout 1\n",
        "\n",
        "          nn.Linear(64, 32, bias=False),\n",
        "          nn.LeakyReLU(inplace=True),\n",
        "          nn.BatchNorm1d(32),\n",
        "          nn.Dropout(0.3),  # Dropout 2\n",
        "\n",
        "          nn.Linear(32, num_classes)\n",
        ")\n",
        "\n",
        "\n",
        "  def forward(self, x):\n",
        "      return self.pipe(x)"
      ],
      "metadata": {
        "id": "SXSw8S7c0Rt4"
      },
      "execution_count": 81,
      "outputs": []
    },
    {
      "cell_type": "code",
      "source": [
        "num_inputs=len(df.columns)\n",
        "num_inputs"
      ],
      "metadata": {
        "colab": {
          "base_uri": "https://localhost:8080/"
        },
        "id": "C-ylTavM1Wgf",
        "outputId": "eda71227-cb2b-42e4-a96c-799eb9391f4f"
      },
      "execution_count": 82,
      "outputs": [
        {
          "output_type": "execute_result",
          "data": {
            "text/plain": [
              "55"
            ]
          },
          "metadata": {},
          "execution_count": 82
        }
      ]
    },
    {
      "cell_type": "code",
      "source": [
        "num_classes=len(target.unique())\n",
        "num_classes"
      ],
      "metadata": {
        "colab": {
          "base_uri": "https://localhost:8080/"
        },
        "id": "gbZ7o5001nWo",
        "outputId": "c47de3e9-8f66-43bc-fd5c-5bd19d5f805f"
      },
      "execution_count": 83,
      "outputs": [
        {
          "output_type": "execute_result",
          "data": {
            "text/plain": [
              "2"
            ]
          },
          "metadata": {},
          "execution_count": 83
        }
      ]
    },
    {
      "cell_type": "code",
      "source": [
        "device = 'cuda' if torch.cuda.is_available() else 'cpu' # вычисления на графическом процессоре, если возможно\n",
        "device"
      ],
      "metadata": {
        "colab": {
          "base_uri": "https://localhost:8080/",
          "height": 36
        },
        "id": "ORnpJLM_1vhP",
        "outputId": "d613f331-1006-4a97-99b0-d33462e6b539"
      },
      "execution_count": 84,
      "outputs": [
        {
          "output_type": "execute_result",
          "data": {
            "text/plain": [
              "'cpu'"
            ],
            "application/vnd.google.colaboratory.intrinsic+json": {
              "type": "string"
            }
          },
          "metadata": {},
          "execution_count": 84
        }
      ]
    },
    {
      "cell_type": "code",
      "source": [
        "model=Classification_Model_FFNN(num_inputs,num_classes)\n",
        "model.to(device);"
      ],
      "metadata": {
        "id": "XPpAstS72HPQ"
      },
      "execution_count": 85,
      "outputs": []
    },
    {
      "cell_type": "code",
      "source": [
        "! pip install torchinfo --quiet"
      ],
      "metadata": {
        "id": "Z4U6tFVy5evI"
      },
      "execution_count": 86,
      "outputs": []
    },
    {
      "cell_type": "code",
      "source": [
        "from torchinfo import summary\n",
        "summary(model,input_size=(1, num_inputs))"
      ],
      "metadata": {
        "colab": {
          "base_uri": "https://localhost:8080/"
        },
        "id": "8jaWzlGL5hsj",
        "outputId": "92c93146-67ca-488c-f9cc-800ef404e710"
      },
      "execution_count": 87,
      "outputs": [
        {
          "output_type": "execute_result",
          "data": {
            "text/plain": [
              "==========================================================================================\n",
              "Layer (type:depth-idx)                   Output Shape              Param #\n",
              "==========================================================================================\n",
              "Classification_Model_FFNN                [1, 2]                    --\n",
              "├─Sequential: 1-1                        [1, 2]                    --\n",
              "│    └─Linear: 2-1                       [1, 64]                   3,520\n",
              "│    └─LeakyReLU: 2-2                    [1, 64]                   --\n",
              "│    └─BatchNorm1d: 2-3                  [1, 64]                   128\n",
              "│    └─Dropout: 2-4                      [1, 64]                   --\n",
              "│    └─Linear: 2-5                       [1, 32]                   2,048\n",
              "│    └─LeakyReLU: 2-6                    [1, 32]                   --\n",
              "│    └─BatchNorm1d: 2-7                  [1, 32]                   64\n",
              "│    └─Dropout: 2-8                      [1, 32]                   --\n",
              "│    └─Linear: 2-9                       [1, 2]                    66\n",
              "==========================================================================================\n",
              "Total params: 5,826\n",
              "Trainable params: 5,826\n",
              "Non-trainable params: 0\n",
              "Total mult-adds (Units.MEGABYTES): 0.01\n",
              "==========================================================================================\n",
              "Input size (MB): 0.00\n",
              "Forward/backward pass size (MB): 0.00\n",
              "Params size (MB): 0.02\n",
              "Estimated Total Size (MB): 0.03\n",
              "=========================================================================================="
            ]
          },
          "metadata": {},
          "execution_count": 87
        }
      ]
    },
    {
      "cell_type": "markdown",
      "source": [
        "#Цикл обучения"
      ],
      "metadata": {
        "id": "yoXDV9w23KtZ"
      }
    },
    {
      "cell_type": "code",
      "source": [
        "weights = torch.tensor(class_weights, dtype=torch.float32).to(device)\n",
        "criterion = nn.CrossEntropyLoss(weight=weights)"
      ],
      "metadata": {
        "id": "QI2h8Wil3SSH"
      },
      "execution_count": 88,
      "outputs": []
    },
    {
      "cell_type": "code",
      "source": [
        "from tqdm import tqdm"
      ],
      "metadata": {
        "id": "QUVp0IHI3q0w"
      },
      "execution_count": 89,
      "outputs": []
    },
    {
      "cell_type": "code",
      "source": [
        "def accuracy(predictions, labels):\n",
        "    classes = torch.argmax(predictions, dim=1)\n",
        "    return torch.mean((classes == labels).float())"
      ],
      "metadata": {
        "id": "_rhG9c5l30WQ"
      },
      "execution_count": 90,
      "outputs": []
    },
    {
      "cell_type": "code",
      "source": [
        "train_losses=[]\n",
        "train_accs=[]\n",
        "def train(model,epoch):\n",
        "  print('\\nEpoch : %d'%epoch)\n",
        "  model.train() # веса модели можно обновлять\n",
        "  running_loss= 0.\n",
        "  running_acc = 0.\n",
        "  for data in tqdm(train_loader):\n",
        "      inputs, targets=data[0].to(device),data[1].to(device) # распаковываем пакеты\n",
        "      optimizer.zero_grad() # обнуляем градиенты\n",
        "      outputs=model(inputs) # считаем предсказания - прямой проход модели\n",
        "      loss=criterion(outputs,targets) # ошибка пакета\n",
        "      loss.backward() # обратное распространение ошибки\n",
        "      optimizer.step() # итерация алгоритма оптимизации\n",
        "\n",
        "      running_loss += loss.item()\n",
        "      running_acc += accuracy(outputs,targets)\n",
        "\n",
        "  train_loss=running_loss/len(train_loader)\n",
        "  train_acc=running_acc/len(train_loader)\n",
        "\n",
        "  train_losses.append(train_loss)\n",
        "  train_accs.append(train_acc)\n",
        "  print('Средняя ошибка модели на тренировочной выборке: %.4f'%(train_loss)+'   Средняя точность модели на тренировочной выборке: %.4f'%(train_acc))"
      ],
      "metadata": {
        "id": "HUJr5X0S318A"
      },
      "execution_count": 91,
      "outputs": []
    },
    {
      "cell_type": "code",
      "source": [
        "val_losses=[]\n",
        "val_accs=[]\n",
        "def val(model,epoch):\n",
        "    print('\\nEpoch : %d'%epoch)\n",
        "    model.eval() # веса модели заморожены\n",
        "    running_loss = 0.\n",
        "    running_acc = 0.\n",
        "    with torch.no_grad(): # запрещаем переисывать градиенты\n",
        "        for data in tqdm(val_loader):\n",
        "            inputs, targets=data[0].to(device),data[1].to(device)\n",
        "            outputs=model(inputs)\n",
        "            loss=criterion(outputs,targets)\n",
        "\n",
        "            running_loss += loss.item()\n",
        "            running_acc += accuracy(outputs,targets)\n",
        "\n",
        "        val_loss=running_loss/len(val_loader)\n",
        "        val_acc=running_acc/len(val_loader)\n",
        "\n",
        "        val_losses.append(val_loss)\n",
        "        val_accs.append(val_acc)\n",
        "        print('Средняя ошибка модели на валидационной выборке: %.4f'%(val_loss)+'   Средняя точность модели на валидационной выборке: %.4f'%(val_acc))"
      ],
      "metadata": {
        "id": "j_9vpQfE34DU"
      },
      "execution_count": 92,
      "outputs": []
    },
    {
      "cell_type": "code",
      "source": [
        "class EarlyStopperByAccuracy:\n",
        "    def __init__(self, patience=10, min_delta=0.005):\n",
        "        self.patience = patience\n",
        "        self.min_delta = min_delta\n",
        "        self.counter = 0\n",
        "        self.best_acc = 0\n",
        "\n",
        "    def early_stop(self, current_acc):\n",
        "        if current_acc > self.best_acc + self.min_delta:\n",
        "            self.best_acc = current_acc\n",
        "            self.counter = 0\n",
        "        else:\n",
        "            self.counter += 1\n",
        "            if self.counter >= self.patience:\n",
        "                return True\n",
        "        return False\n"
      ],
      "metadata": {
        "id": "ZXKcgG9H351h"
      },
      "execution_count": 93,
      "outputs": []
    },
    {
      "cell_type": "code",
      "source": [
        "max_epochs=100\n",
        "best_acc=0.0\n",
        "early_stopper = EarlyStopperByAccuracy(patience=10, min_delta=0.005)\n",
        "for epoch in range(1, max_epochs+1):\n",
        "    train(model, epoch)\n",
        "    val(model, epoch)\n",
        "\n",
        "    if val_accs[-1] > best_acc:\n",
        "        torch.save(model, 'best-model.pt')\n",
        "        best_acc = val_accs[-1]\n",
        "\n",
        "    if early_stopper.early_stop(val_accs[-1]):\n",
        "        print(\"Остановка по точности\")\n",
        "        break"
      ],
      "metadata": {
        "colab": {
          "base_uri": "https://localhost:8080/"
        },
        "id": "5VHL8ACA4mEH",
        "outputId": "6b0ef2e0-041d-41b8-f067-8faca5905189"
      },
      "execution_count": 94,
      "outputs": [
        {
          "output_type": "stream",
          "name": "stdout",
          "text": [
            "\n",
            "Epoch : 1\n"
          ]
        },
        {
          "output_type": "stream",
          "name": "stderr",
          "text": [
            "100%|██████████| 250/250 [00:00<00:00, 393.26it/s]\n"
          ]
        },
        {
          "output_type": "stream",
          "name": "stdout",
          "text": [
            "Средняя ошибка модели на тренировочной выборке: 0.8005   Средняя точность модели на тренировочной выборке: 0.4995\n",
            "\n",
            "Epoch : 1\n"
          ]
        },
        {
          "output_type": "stream",
          "name": "stderr",
          "text": [
            "100%|██████████| 32/32 [00:00<00:00, 1032.39it/s]\n"
          ]
        },
        {
          "output_type": "stream",
          "name": "stdout",
          "text": [
            "Средняя ошибка модели на валидационной выборке: 0.7403   Средняя точность модели на валидационной выборке: 0.5083\n",
            "\n",
            "Epoch : 2\n"
          ]
        },
        {
          "output_type": "stream",
          "name": "stderr",
          "text": [
            "100%|██████████| 250/250 [00:00<00:00, 525.32it/s]\n"
          ]
        },
        {
          "output_type": "stream",
          "name": "stdout",
          "text": [
            "Средняя ошибка модели на тренировочной выборке: 0.7960   Средняя точность модели на тренировочной выборке: 0.4961\n",
            "\n",
            "Epoch : 2\n"
          ]
        },
        {
          "output_type": "stream",
          "name": "stderr",
          "text": [
            "100%|██████████| 32/32 [00:00<00:00, 948.19it/s]\n"
          ]
        },
        {
          "output_type": "stream",
          "name": "stdout",
          "text": [
            "Средняя ошибка модели на валидационной выборке: 0.7431   Средняя точность модели на валидационной выборке: 0.5117\n",
            "\n",
            "Epoch : 3\n"
          ]
        },
        {
          "output_type": "stream",
          "name": "stderr",
          "text": [
            "100%|██████████| 250/250 [00:00<00:00, 413.64it/s]\n"
          ]
        },
        {
          "output_type": "stream",
          "name": "stdout",
          "text": [
            "Средняя ошибка модели на тренировочной выборке: 0.7974   Средняя точность модели на тренировочной выборке: 0.4983\n",
            "\n",
            "Epoch : 3\n"
          ]
        },
        {
          "output_type": "stream",
          "name": "stderr",
          "text": [
            "100%|██████████| 32/32 [00:00<00:00, 985.84it/s]\n"
          ]
        },
        {
          "output_type": "stream",
          "name": "stdout",
          "text": [
            "Средняя ошибка модели на валидационной выборке: 0.7453   Средняя точность модели на валидационной выборке: 0.5098\n",
            "\n",
            "Epoch : 4\n"
          ]
        },
        {
          "output_type": "stream",
          "name": "stderr",
          "text": [
            "100%|██████████| 250/250 [00:00<00:00, 412.44it/s]\n"
          ]
        },
        {
          "output_type": "stream",
          "name": "stdout",
          "text": [
            "Средняя ошибка модели на тренировочной выборке: 0.7979   Средняя точность модели на тренировочной выборке: 0.4996\n",
            "\n",
            "Epoch : 4\n"
          ]
        },
        {
          "output_type": "stream",
          "name": "stderr",
          "text": [
            "100%|██████████| 32/32 [00:00<00:00, 1136.70it/s]\n"
          ]
        },
        {
          "output_type": "stream",
          "name": "stdout",
          "text": [
            "Средняя ошибка модели на валидационной выборке: 0.7415   Средняя точность модели на валидационной выборке: 0.5107\n",
            "\n",
            "Epoch : 5\n"
          ]
        },
        {
          "output_type": "stream",
          "name": "stderr",
          "text": [
            "100%|██████████| 250/250 [00:00<00:00, 526.39it/s]\n"
          ]
        },
        {
          "output_type": "stream",
          "name": "stdout",
          "text": [
            "Средняя ошибка модели на тренировочной выборке: 0.7873   Средняя точность модели на тренировочной выборке: 0.5020\n",
            "\n",
            "Epoch : 5\n"
          ]
        },
        {
          "output_type": "stream",
          "name": "stderr",
          "text": [
            "100%|██████████| 32/32 [00:00<00:00, 1086.89it/s]\n"
          ]
        },
        {
          "output_type": "stream",
          "name": "stdout",
          "text": [
            "Средняя ошибка модели на валидационной выборке: 0.7427   Средняя точность модели на валидационной выборке: 0.5098\n",
            "\n",
            "Epoch : 6\n"
          ]
        },
        {
          "output_type": "stream",
          "name": "stderr",
          "text": [
            "100%|██████████| 250/250 [00:00<00:00, 281.27it/s]\n"
          ]
        },
        {
          "output_type": "stream",
          "name": "stdout",
          "text": [
            "Средняя ошибка модели на тренировочной выборке: 0.7948   Средняя точность модели на тренировочной выборке: 0.5010\n",
            "\n",
            "Epoch : 6\n"
          ]
        },
        {
          "output_type": "stream",
          "name": "stderr",
          "text": [
            "100%|██████████| 32/32 [00:00<00:00, 674.93it/s]\n"
          ]
        },
        {
          "output_type": "stream",
          "name": "stdout",
          "text": [
            "Средняя ошибка модели на валидационной выборке: 0.7445   Средняя точность модели на валидационной выборке: 0.5107\n",
            "\n",
            "Epoch : 7\n"
          ]
        },
        {
          "output_type": "stream",
          "name": "stderr",
          "text": [
            "100%|██████████| 250/250 [00:01<00:00, 219.49it/s]\n"
          ]
        },
        {
          "output_type": "stream",
          "name": "stdout",
          "text": [
            "Средняя ошибка модели на тренировочной выборке: 0.7949   Средняя точность модели на тренировочной выборке: 0.5009\n",
            "\n",
            "Epoch : 7\n"
          ]
        },
        {
          "output_type": "stream",
          "name": "stderr",
          "text": [
            "100%|██████████| 32/32 [00:00<00:00, 723.55it/s]\n"
          ]
        },
        {
          "output_type": "stream",
          "name": "stdout",
          "text": [
            "Средняя ошибка модели на валидационной выборке: 0.7386   Средняя точность модели на валидационной выборке: 0.5181\n",
            "\n",
            "Epoch : 8\n"
          ]
        },
        {
          "output_type": "stream",
          "name": "stderr",
          "text": [
            "100%|██████████| 250/250 [00:01<00:00, 206.23it/s]\n"
          ]
        },
        {
          "output_type": "stream",
          "name": "stdout",
          "text": [
            "Средняя ошибка модели на тренировочной выборке: 0.7943   Средняя точность модели на тренировочной выборке: 0.4969\n",
            "\n",
            "Epoch : 8\n"
          ]
        },
        {
          "output_type": "stream",
          "name": "stderr",
          "text": [
            "100%|██████████| 32/32 [00:00<00:00, 220.20it/s]\n"
          ]
        },
        {
          "output_type": "stream",
          "name": "stdout",
          "text": [
            "Средняя ошибка модели на валидационной выборке: 0.7452   Средняя точность модели на валидационной выборке: 0.5083\n",
            "\n",
            "Epoch : 9\n"
          ]
        },
        {
          "output_type": "stream",
          "name": "stderr",
          "text": [
            "100%|██████████| 250/250 [00:01<00:00, 128.22it/s]\n"
          ]
        },
        {
          "output_type": "stream",
          "name": "stdout",
          "text": [
            "Средняя ошибка модели на тренировочной выборке: 0.7949   Средняя точность модели на тренировочной выборке: 0.5069\n",
            "\n",
            "Epoch : 9\n"
          ]
        },
        {
          "output_type": "stream",
          "name": "stderr",
          "text": [
            "100%|██████████| 32/32 [00:00<00:00, 283.81it/s]\n"
          ]
        },
        {
          "output_type": "stream",
          "name": "stdout",
          "text": [
            "Средняя ошибка модели на валидационной выборке: 0.7467   Средняя точность модели на валидационной выборке: 0.5132\n",
            "\n",
            "Epoch : 10\n"
          ]
        },
        {
          "output_type": "stream",
          "name": "stderr",
          "text": [
            "100%|██████████| 250/250 [00:02<00:00, 103.86it/s]\n"
          ]
        },
        {
          "output_type": "stream",
          "name": "stdout",
          "text": [
            "Средняя ошибка модели на тренировочной выборке: 0.7914   Средняя точность модели на тренировочной выборке: 0.5042\n",
            "\n",
            "Epoch : 10\n"
          ]
        },
        {
          "output_type": "stream",
          "name": "stderr",
          "text": [
            "100%|██████████| 32/32 [00:00<00:00, 573.45it/s]\n"
          ]
        },
        {
          "output_type": "stream",
          "name": "stdout",
          "text": [
            "Средняя ошибка модели на валидационной выборке: 0.7417   Средняя точность модели на валидационной выборке: 0.5112\n",
            "\n",
            "Epoch : 11\n"
          ]
        },
        {
          "output_type": "stream",
          "name": "stderr",
          "text": [
            "100%|██████████| 250/250 [00:01<00:00, 191.11it/s]\n"
          ]
        },
        {
          "output_type": "stream",
          "name": "stdout",
          "text": [
            "Средняя ошибка модели на тренировочной выборке: 0.7920   Средняя точность модели на тренировочной выборке: 0.5017\n",
            "\n",
            "Epoch : 11\n"
          ]
        },
        {
          "output_type": "stream",
          "name": "stderr",
          "text": [
            "100%|██████████| 32/32 [00:00<00:00, 571.76it/s]\n"
          ]
        },
        {
          "output_type": "stream",
          "name": "stdout",
          "text": [
            "Средняя ошибка модели на валидационной выборке: 0.7455   Средняя точность модели на валидационной выборке: 0.5093\n",
            "\n",
            "Epoch : 12\n"
          ]
        },
        {
          "output_type": "stream",
          "name": "stderr",
          "text": [
            "100%|██████████| 250/250 [00:01<00:00, 225.17it/s]\n"
          ]
        },
        {
          "output_type": "stream",
          "name": "stdout",
          "text": [
            "Средняя ошибка модели на тренировочной выборке: 0.7919   Средняя точность модели на тренировочной выборке: 0.5046\n",
            "\n",
            "Epoch : 12\n"
          ]
        },
        {
          "output_type": "stream",
          "name": "stderr",
          "text": [
            "100%|██████████| 32/32 [00:00<00:00, 461.85it/s]\n"
          ]
        },
        {
          "output_type": "stream",
          "name": "stdout",
          "text": [
            "Средняя ошибка модели на валидационной выборке: 0.7413   Средняя точность модели на валидационной выборке: 0.5137\n",
            "\n",
            "Epoch : 13\n"
          ]
        },
        {
          "output_type": "stream",
          "name": "stderr",
          "text": [
            "100%|██████████| 250/250 [00:01<00:00, 161.44it/s]\n"
          ]
        },
        {
          "output_type": "stream",
          "name": "stdout",
          "text": [
            "Средняя ошибка модели на тренировочной выборке: 0.7994   Средняя точность модели на тренировочной выборке: 0.4971\n",
            "\n",
            "Epoch : 13\n"
          ]
        },
        {
          "output_type": "stream",
          "name": "stderr",
          "text": [
            "100%|██████████| 32/32 [00:00<00:00, 624.73it/s]\n"
          ]
        },
        {
          "output_type": "stream",
          "name": "stdout",
          "text": [
            "Средняя ошибка модели на валидационной выборке: 0.7405   Средняя точность модели на валидационной выборке: 0.5195\n",
            "\n",
            "Epoch : 14\n"
          ]
        },
        {
          "output_type": "stream",
          "name": "stderr",
          "text": [
            "100%|██████████| 250/250 [00:00<00:00, 279.89it/s]\n"
          ]
        },
        {
          "output_type": "stream",
          "name": "stdout",
          "text": [
            "Средняя ошибка модели на тренировочной выборке: 0.7954   Средняя точность модели на тренировочной выборке: 0.5044\n",
            "\n",
            "Epoch : 14\n"
          ]
        },
        {
          "output_type": "stream",
          "name": "stderr",
          "text": [
            "100%|██████████| 32/32 [00:00<00:00, 344.85it/s]\n"
          ]
        },
        {
          "output_type": "stream",
          "name": "stdout",
          "text": [
            "Средняя ошибка модели на валидационной выборке: 0.7445   Средняя точность модели на валидационной выборке: 0.5073\n",
            "\n",
            "Epoch : 15\n"
          ]
        },
        {
          "output_type": "stream",
          "name": "stderr",
          "text": [
            "100%|██████████| 250/250 [00:00<00:00, 255.25it/s]\n"
          ]
        },
        {
          "output_type": "stream",
          "name": "stdout",
          "text": [
            "Средняя ошибка модели на тренировочной выборке: 0.7898   Средняя точность модели на тренировочной выборке: 0.5029\n",
            "\n",
            "Epoch : 15\n"
          ]
        },
        {
          "output_type": "stream",
          "name": "stderr",
          "text": [
            "100%|██████████| 32/32 [00:00<00:00, 630.23it/s]\n"
          ]
        },
        {
          "output_type": "stream",
          "name": "stdout",
          "text": [
            "Средняя ошибка модели на валидационной выборке: 0.7413   Средняя точность модели на валидационной выборке: 0.5107\n",
            "\n",
            "Epoch : 16\n"
          ]
        },
        {
          "output_type": "stream",
          "name": "stderr",
          "text": [
            "100%|██████████| 250/250 [00:01<00:00, 201.11it/s]\n"
          ]
        },
        {
          "output_type": "stream",
          "name": "stdout",
          "text": [
            "Средняя ошибка модели на тренировочной выборке: 0.7949   Средняя точность модели на тренировочной выборке: 0.4967\n",
            "\n",
            "Epoch : 16\n"
          ]
        },
        {
          "output_type": "stream",
          "name": "stderr",
          "text": [
            "100%|██████████| 32/32 [00:00<00:00, 685.36it/s]\n"
          ]
        },
        {
          "output_type": "stream",
          "name": "stdout",
          "text": [
            "Средняя ошибка модели на валидационной выборке: 0.7444   Средняя точность модели на валидационной выборке: 0.5107\n",
            "\n",
            "Epoch : 17\n"
          ]
        },
        {
          "output_type": "stream",
          "name": "stderr",
          "text": [
            "100%|██████████| 250/250 [00:01<00:00, 141.57it/s]\n"
          ]
        },
        {
          "output_type": "stream",
          "name": "stdout",
          "text": [
            "Средняя ошибка модели на тренировочной выборке: 0.7951   Средняя точность модели на тренировочной выборке: 0.4963\n",
            "\n",
            "Epoch : 17\n"
          ]
        },
        {
          "output_type": "stream",
          "name": "stderr",
          "text": [
            "100%|██████████| 32/32 [00:00<00:00, 225.73it/s]"
          ]
        },
        {
          "output_type": "stream",
          "name": "stdout",
          "text": [
            "Средняя ошибка модели на валидационной выборке: 0.7417   Средняя точность модели на валидационной выборке: 0.5117\n",
            "Остановка по точности\n"
          ]
        },
        {
          "output_type": "stream",
          "name": "stderr",
          "text": [
            "\n"
          ]
        }
      ]
    },
    {
      "cell_type": "markdown",
      "source": [
        "#Анализ результатов и тестирование"
      ],
      "metadata": {
        "id": "G5Y8ASJU46GX"
      }
    },
    {
      "cell_type": "code",
      "source": [
        "best_acc"
      ],
      "metadata": {
        "colab": {
          "base_uri": "https://localhost:8080/"
        },
        "id": "lZArRnoK49cj",
        "outputId": "945a01e1-a1e9-49ca-94dd-d8c3a64bfe16"
      },
      "execution_count": 95,
      "outputs": [
        {
          "output_type": "execute_result",
          "data": {
            "text/plain": [
              "tensor(0.5195)"
            ]
          },
          "metadata": {},
          "execution_count": 95
        }
      ]
    },
    {
      "cell_type": "code",
      "source": [
        "plt.rcParams[\"figure.figsize\"] = (20,5)\n",
        "plt.plot(train_losses,'-o')\n",
        "plt.plot(val_losses,'-o')\n",
        "plt.xlabel('эпоха')\n",
        "plt.ylabel('ошибка')\n",
        "plt.legend(['Обучение','Валидация'])\n",
        "plt.title('Ошибка обучения vs Ошибка валидации')\n",
        "plt.show()"
      ],
      "metadata": {
        "colab": {
          "base_uri": "https://localhost:8080/",
          "height": 338
        },
        "id": "YuQ-E6MK5K1H",
        "outputId": "bc3e730b-ec35-458c-be55-e82456d877f3"
      },
      "execution_count": 96,
      "outputs": [
        {
          "output_type": "display_data",
          "data": {
            "text/plain": [
              "<Figure size 2000x500 with 1 Axes>"
            ],
            "image/png": "[encoded data removed]"
          },
          "metadata": {}
        }
      ]
    },
    {
      "cell_type": "code",
      "source": [
        "plt.rcParams[\"figure.figsize\"] = (20,5)\n",
        "plt.plot(train_accs,'-o')\n",
        "plt.plot(val_accs,'-o')\n",
        "plt.xlabel('эпоха')\n",
        "plt.ylabel('точность')\n",
        "plt.legend(['Обучение','Валидация'])\n",
        "plt.title('Точность на обучении vs Точночть на валидации')\n",
        "plt.show()"
      ],
      "metadata": {
        "colab": {
          "base_uri": "https://localhost:8080/",
          "height": 336
        },
        "id": "pdmHJaOZ57mH",
        "outputId": "b7850c5a-75a0-48bd-ddd7-63447edc8c6e"
      },
      "execution_count": 97,
      "outputs": [
        {
          "output_type": "display_data",
          "data": {
            "text/plain": [
              "<Figure size 2000x500 with 1 Axes>"
            ],
            "image/png": "[encoded data removed]"
          },
          "metadata": {}
        }
      ]
    },
    {
      "cell_type": "code",
      "source": [
        "model = torch.load('best-model.pt');\n",
        "model.eval();"
      ],
      "metadata": {
        "colab": {
          "base_uri": "https://localhost:8080/",
          "height": 491
        },
        "id": "qRGwL1HS6NvX",
        "outputId": "b897445f-bef0-4c0d-b8a3-4987567bacac"
      },
      "execution_count": 98,
      "outputs": [
        {
          "output_type": "error",
          "ename": "UnpicklingError",
          "evalue": "Weights only load failed. This file can still be loaded, to do so you have two options, \u001b[1mdo those steps only if you trust the source of the checkpoint\u001b[0m. \n\t(1) In PyTorch 2.6, we changed the default value of the `weights_only` argument in `torch.load` from `False` to `True`. Re-running `torch.load` with `weights_only` set to `False` will likely succeed, but it can result in arbitrary code execution. Do it only if you got the file from a trusted source.\n\t(2) Alternatively, to load with `weights_only=True` please check the recommended steps in the following error message.\n\tWeightsUnpickler error: Unsupported global: GLOBAL __main__.Classification_Model_FFNN was not an allowed global by default. Please use `torch.serialization.add_safe_globals([Classification_Model_FFNN])` or the `torch.serialization.safe_globals([Classification_Model_FFNN])` context manager to allowlist this global if you trust this class/function.\n\nCheck the documentation of torch.load to learn more about types accepted by default with weights_only https://pytorch.org/docs/stable/generated/torch.load.html.",
          "traceback": [
            "\u001b[0;31m---------------------------------------------------------------------------\u001b[0m",
            "\u001b[0;31mUnpicklingError\u001b[0m                           Traceback (most recent call last)",
            "\u001b[0;32m<ipython-input-98-fd4f3f516958>\u001b[0m in \u001b[0;36m<cell line: 0>\u001b[0;34m()\u001b[0m\n\u001b[0;32m----> 1\u001b[0;31m \u001b[0mmodel\u001b[0m \u001b[0;34m=\u001b[0m \u001b[0mtorch\u001b[0m\u001b[0;34m.\u001b[0m\u001b[0mload\u001b[0m\u001b[0;34m(\u001b[0m\u001b[0;34m'best-model.pt'\u001b[0m\u001b[0;34m)\u001b[0m\u001b[0;34m;\u001b[0m\u001b[0;34m\u001b[0m\u001b[0;34m\u001b[0m\u001b[0m\n\u001b[0m\u001b[1;32m      2\u001b[0m \u001b[0mmodel\u001b[0m\u001b[0;34m.\u001b[0m\u001b[0meval\u001b[0m\u001b[0;34m(\u001b[0m\u001b[0;34m)\u001b[0m\u001b[0;34m;\u001b[0m\u001b[0;34m\u001b[0m\u001b[0;34m\u001b[0m\u001b[0m\n",
            "\u001b[0;32m/usr/local/lib/python3.11/dist-packages/torch/serialization.py\u001b[0m in \u001b[0;36mload\u001b[0;34m(f, map_location, pickle_module, weights_only, mmap, **pickle_load_args)\u001b[0m\n\u001b[1;32m   1468\u001b[0m                         )\n\u001b[1;32m   1469\u001b[0m                     \u001b[0;32mexcept\u001b[0m \u001b[0mpickle\u001b[0m\u001b[0;34m.\u001b[0m\u001b[0mUnpicklingError\u001b[0m \u001b[0;32mas\u001b[0m \u001b[0me\u001b[0m\u001b[0;34m:\u001b[0m\u001b[0;34m\u001b[0m\u001b[0;34m\u001b[0m\u001b[0m\n\u001b[0;32m-> 1470\u001b[0;31m                         \u001b[0;32mraise\u001b[0m \u001b[0mpickle\u001b[0m\u001b[0;34m.\u001b[0m\u001b[0mUnpicklingError\u001b[0m\u001b[0;34m(\u001b[0m\u001b[0m_get_wo_message\u001b[0m\u001b[0;34m(\u001b[0m\u001b[0mstr\u001b[0m\u001b[0;34m(\u001b[0m\u001b[0me\u001b[0m\u001b[0;34m)\u001b[0m\u001b[0;34m)\u001b[0m\u001b[0;34m)\u001b[0m \u001b[0;32mfrom\u001b[0m \u001b[0;32mNone\u001b[0m\u001b[0;34m\u001b[0m\u001b[0;34m\u001b[0m\u001b[0m\n\u001b[0m\u001b[1;32m   1471\u001b[0m                 return _load(\n\u001b[1;32m   1472\u001b[0m                     \u001b[0mopened_zipfile\u001b[0m\u001b[0;34m,\u001b[0m\u001b[0;34m\u001b[0m\u001b[0;34m\u001b[0m\u001b[0m\n",
            "\u001b[0;31mUnpicklingError\u001b[0m: Weights only load failed. This file can still be loaded, to do so you have two options, \u001b[1mdo those steps only if you trust the source of the checkpoint\u001b[0m. \n\t(1) In PyTorch 2.6, we changed the default value of the `weights_only` argument in `torch.load` from `False` to `True`. Re-running `torch.load` with `weights_only` set to `False` will likely succeed, but it can result in arbitrary code execution. Do it only if you got the file from a trusted source.\n\t(2) Alternatively, to load with `weights_only=True` please check the recommended steps in the following error message.\n\tWeightsUnpickler error: Unsupported global: GLOBAL __main__.Classification_Model_FFNN was not an allowed global by default. Please use `torch.serialization.add_safe_globals([Classification_Model_FFNN])` or the `torch.serialization.safe_globals([Classification_Model_FFNN])` context manager to allowlist this global if you trust this class/function.\n\nCheck the documentation of torch.load to learn more about types accepted by default with weights_only https://pytorch.org/docs/stable/generated/torch.load.html."
          ]
        }
      ]
    },
    {
      "cell_type": "code",
      "source": [
        "preds=[]\n",
        "trgts=[]\n",
        "with torch.no_grad():\n",
        "  for data in tqdm(test_loader):\n",
        "    inputs, targets=data[0].to(device),data[1].to(device)\n",
        "    outputs=model(inputs)\n",
        "    targets=targets.to('cpu').numpy()\n",
        "    pred = outputs.data.max(1, keepdim=True)[1]\n",
        "    pred = pred.to('cpu').numpy()\n",
        "    trgts.append(targets)\n",
        "    preds.append(pred)"
      ],
      "metadata": {
        "colab": {
          "base_uri": "https://localhost:8080/"
        },
        "id": "n2GbO5_46Y5D",
        "outputId": "2b9912b7-ff22-4674-d7d9-4d6b83febfdb"
      },
      "execution_count": 99,
      "outputs": [
        {
          "output_type": "stream",
          "name": "stderr",
          "text": [
            "100%|██████████| 32/32 [00:00<00:00, 753.49it/s]\n"
          ]
        }
      ]
    },
    {
      "cell_type": "code",
      "source": [
        "targets=[x for sub in trgts for x in sub]\n",
        "predictions=[x[0] for sub in preds for x in sub]\n",
        "targets=np.array(targets)\n",
        "predictions=np.array(predictions)"
      ],
      "metadata": {
        "id": "pq_soRzE7DFX"
      },
      "execution_count": 100,
      "outputs": []
    },
    {
      "cell_type": "code",
      "source": [
        "from sklearn.metrics import confusion_matrix, ConfusionMatrixDisplay, classification_report\n",
        "cm = confusion_matrix(targets, predictions)\n",
        "ConfusionMatrixDisplay(cm).plot()"
      ],
      "metadata": {
        "colab": {
          "base_uri": "https://localhost:8080/",
          "height": 483
        },
        "id": "BlHuHR507FIY",
        "outputId": "86258b6f-4c9e-4b02-8663-33a6ff180022"
      },
      "execution_count": 101,
      "outputs": [
        {
          "output_type": "execute_result",
          "data": {
            "text/plain": [
              "<sklearn.metrics._plot.confusion_matrix.ConfusionMatrixDisplay at 0x799c1e8428d0>"
            ]
          },
          "metadata": {},
          "execution_count": 101
        },
        {
          "output_type": "display_data",
          "data": {
            "text/plain": [
              "<Figure size 2000x500 with 2 Axes>"
            ],
            "image/png": "[encoded data removed]"
          },
          "metadata": {}
        }
      ]
    },
    {
      "cell_type": "code",
      "source": [
        "print(classification_report(targets, predictions))"
      ],
      "metadata": {
        "colab": {
          "base_uri": "https://localhost:8080/"
        },
        "id": "FsZQ1yoY7GtB",
        "outputId": "74049fa0-8ccc-4c9f-862f-c0ab94669288"
      },
      "execution_count": 102,
      "outputs": [
        {
          "output_type": "stream",
          "name": "stdout",
          "text": [
            "              precision    recall  f1-score   support\n",
            "\n",
            "           0       0.50      0.36      0.42       990\n",
            "           1       0.51      0.66      0.57      1010\n",
            "\n",
            "    accuracy                           0.51      2000\n",
            "   macro avg       0.51      0.51      0.50      2000\n",
            "weighted avg       0.51      0.51      0.50      2000\n",
            "\n"
          ]
        }
      ]
    },
    {
      "cell_type": "code",
      "source": [
        "print(np.bincount(y_train))\n",
        "print(np.bincount(y_val))\n"
      ],
      "metadata": {
        "colab": {
          "base_uri": "https://localhost:8080/"
        },
        "id": "lhsnSGef7IuE",
        "outputId": "93639ea6-abc2-4917-b065-fd6d411219bf"
      },
      "execution_count": 103,
      "outputs": [
        {
          "output_type": "stream",
          "name": "stdout",
          "text": [
            "[7919 8081]\n",
            "[ 990 1010]\n"
          ]
        }
      ]
    },
    {
      "cell_type": "code",
      "source": [
        "from sklearn.ensemble import RandomForestClassifier\n",
        "from sklearn.metrics import classification_report\n",
        "\n",
        "clf = RandomForestClassifier(\n",
        "    n_estimators=100,\n",
        "    class_weight='balanced',\n",
        "    random_state=42\n",
        ")\n",
        "clf.fit(X_train, y_train)\n",
        "\n",
        "# Предсказания\n",
        "y_pred = clf.predict(X_val)\n",
        "\n",
        "# Оценка\n",
        "print(\"Точность на валидации:\", clf.score(X_val, y_val))\n",
        "print(classification_report(y_val, y_pred))\n"
      ],
      "metadata": {
        "colab": {
          "base_uri": "https://localhost:8080/"
        },
        "id": "pynQH2qY-VuC",
        "outputId": "6409d353-3e8b-4086-b41a-2d874db5e425"
      },
      "execution_count": 104,
      "outputs": [
        {
          "output_type": "stream",
          "name": "stdout",
          "text": [
            "Точность на валидации: 0.527\n",
            "              precision    recall  f1-score   support\n",
            "\n",
            "           0       0.52      0.51      0.52       990\n",
            "           1       0.53      0.54      0.54      1010\n",
            "\n",
            "    accuracy                           0.53      2000\n",
            "   macro avg       0.53      0.53      0.53      2000\n",
            "weighted avg       0.53      0.53      0.53      2000\n",
            "\n"
          ]
        }
      ]
    },
    {
      "cell_type": "code",
      "source": [
        "import matplotlib.pyplot as plt\n",
        "\n",
        "importances = clf.feature_importances_\n",
        "indices = np.argsort(importances)[::-1]\n",
        "features = df.columns\n",
        "\n",
        "plt.figure(figsize=(10, 6))\n",
        "plt.title(\"Важность признаков (Random Forest)\")\n",
        "plt.bar(range(10), importances[indices[:10]])\n",
        "plt.xticks(range(10), [features[i] for i in indices[:10]], rotation=45)\n",
        "plt.tight_layout()\n",
        "plt.show()\n"
      ],
      "metadata": {
        "colab": {
          "base_uri": "https://localhost:8080/",
          "height": 607
        },
        "id": "4RtRyvwK-x20",
        "outputId": "9e2f2d1b-ee2c-4764-85ac-73066388a8d0"
      },
      "execution_count": 105,
      "outputs": [
        {
          "output_type": "display_data",
          "data": {
            "text/plain": [
              "<Figure size 1000x600 with 1 Axes>"
            ],
            "image/png": "[encoded data removed]"
          },
          "metadata": {}
        }
      ]
    },
    {
      "cell_type": "code",
      "source": [
        "from xgboost import XGBClassifier\n",
        "\n",
        "xgb = XGBClassifier(scale_pos_weight=1, use_label_encoder=False, eval_metric='logloss')\n",
        "xgb.fit(X_train, y_train)\n",
        "print(\"Точность на валидации:\", xgb.score(X_val, y_val))\n"
      ],
      "metadata": {
        "colab": {
          "base_uri": "https://localhost:8080/"
        },
        "id": "06zKLB3l_HT2",
        "outputId": "3ba2cbda-97cb-4778-dc85-53c619d91e12"
      },
      "execution_count": 106,
      "outputs": [
        {
          "output_type": "stream",
          "name": "stderr",
          "text": [
            "/usr/local/lib/python3.11/dist-packages/xgboost/core.py:158: UserWarning: [18:50:27] WARNING: /workspace/src/learner.cc:740: \n",
            "Parameters: { \"use_label_encoder\" } are not used.\n",
            "\n",
            "  warnings.warn(smsg, UserWarning)\n"
          ]
        },
        {
          "output_type": "stream",
          "name": "stdout",
          "text": [
            "Точность на валидации: 0.499\n"
          ]
        }
      ]
    },
    {
      "cell_type": "code",
      "source": [
        "top_features = ['Tumor_Growth_Rate', 'Survival_Rate', 'Tumor_Size', 'Age']\n",
        "X_train_reduced = pd.DataFrame(X_train, columns=df.columns)[top_features].values\n",
        "X_val_reduced = pd.DataFrame(X_val, columns=df.columns)[top_features].values\n",
        "\n",
        "from sklearn.linear_model import LogisticRegression\n",
        "logreg = LogisticRegression(class_weight='balanced')\n",
        "logreg.fit(X_train_reduced, y_train)\n",
        "print(\"Точность на валидации (логрег):\", logreg.score(X_val_reduced, y_val))\n"
      ],
      "metadata": {
        "colab": {
          "base_uri": "https://localhost:8080/"
        },
        "id": "hQ6GFZqr_LEU",
        "outputId": "21e131dd-93ee-456d-bee0-00b81f911f64"
      },
      "execution_count": 107,
      "outputs": [
        {
          "output_type": "stream",
          "name": "stdout",
          "text": [
            "Точность на валидации (логрег): 0.503\n"
          ]
        }
      ]
    },
    {
      "cell_type": "markdown",
      "source": [
        "В ходе проекта были протестированы различные модели машинного обучения (нейросеть, случайный лес, XGBoost, логистическая регрессия) для предсказания необходимости дальнейшего наблюдения у пациентов с опухолью мозга. После полноценной предобработки данных и анализа признаков стало ясно, что даже самые важные признаки (скорость роста опухоли, выживаемость, размер опухоли, возраст) дают модели точность около 50–53%, что соответствует случайному угадыванию. Это говорит о слабой зависимости между признаками и целевой переменной или о том, что сама метка могла быть сформирована не только на основе медицинских данных. Несмотря на это, работа позволила глубоко изучить этапы построения модели, обработки данных и анализа важности признаков."
      ],
      "metadata": {
        "id": "Y9GzzU3HABdd"
      }
    },
    {
      "cell_type": "code",
      "source": [],
      "metadata": {
        "id": "3ZXJ-qwkACTb"
      },
      "execution_count": null,
      "outputs": []
    }
  ]
}